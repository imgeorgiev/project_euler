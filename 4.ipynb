{
 "cells": [
  {
   "cell_type": "markdown",
   "metadata": {},
   "source": [
    "A palindromic number reads the same both ways. The largest palindrome made from the product of two 2-digit numbers is 9009 = 91 × 99.\n",
    "\n",
    "Find the largest palindrome made from the product of two 3-digit numbers."
   ]
  },
  {
   "cell_type": "code",
   "execution_count": 28,
   "metadata": {},
   "outputs": [],
   "source": [
    "n1 = range(999,100, -1)\n",
    "n2 = range(999,100, -1)"
   ]
  },
  {
   "cell_type": "code",
   "execution_count": 29,
   "metadata": {},
   "outputs": [],
   "source": [
    "def is_palyndrome(num):\n",
    "    num_str = str(num)\n",
    "    if len(num_str)%2 == 0:\n",
    "        left_side = num_str[:len(num_str)//2]\n",
    "        right_side = num_str[len(num_str)//2:]\n",
    "        if left_side == right_side[::-1]:\n",
    "            return True;\n",
    "        else:\n",
    "            return False\n",
    "    else:\n",
    "        left_side = num_str[:len(num_str)//2]\n",
    "        right_side = num_str[len(num_str)//2+1:]\n",
    "        if left_side == right_side[::-1]:\n",
    "            return True;\n",
    "        else:\n",
    "            return False"
   ]
  },
  {
   "cell_type": "code",
   "execution_count": 30,
   "metadata": {},
   "outputs": [
    {
     "data": {
      "text/plain": [
       "True"
      ]
     },
     "execution_count": 30,
     "metadata": {},
     "output_type": "execute_result"
    }
   ],
   "source": [
    "is_palyndrome(990099)"
   ]
  },
  {
   "cell_type": "code",
   "execution_count": 35,
   "metadata": {},
   "outputs": [
    {
     "name": "stdout",
     "output_type": "stream",
     "text": [
      "Largest polyndrome is 906609\n"
     ]
    }
   ],
   "source": [
    "nums = []\n",
    "for candidate1 in n1:\n",
    "    for candidate2 in n2:\n",
    "        if is_palyndrome(candidate1*candidate2):\n",
    "#             print(\"Found it:\", candidate1*candidate2)\n",
    "            nums.append(candidate1*candidate2)\n",
    "            \n",
    "print(\"Largest polyndrome is\", max(nums))\n",
    "            "
   ]
  }
 ],
 "metadata": {
  "kernelspec": {
   "display_name": "Python 3",
   "language": "python",
   "name": "python3"
  },
  "language_info": {
   "codemirror_mode": {
    "name": "ipython",
    "version": 3
   },
   "file_extension": ".py",
   "mimetype": "text/x-python",
   "name": "python",
   "nbconvert_exporter": "python",
   "pygments_lexer": "ipython3",
   "version": "3.8.5"
  }
 },
 "nbformat": 4,
 "nbformat_minor": 4
}
