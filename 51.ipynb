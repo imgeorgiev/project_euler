{
 "cells": [
  {
   "cell_type": "markdown",
   "metadata": {},
   "source": [
    "By replacing the 1st digit of the 2-digit number *3, it turns out that six of the nine possible values: 13, 23, 43, 53, 73, and 83, are all prime.\n",
    "\n",
    "By replacing the 3rd and 4th digits of 56**3 with the same digit, this 5-digit number is the first example having seven primes among the ten generated numbers, yielding the family: 56003, 56113, 56333, 56443, 56663, 56773, and 56993. Consequently 56003, being the first member of this family, is the smallest prime with this property.\n",
    "\n",
    "Find the smallest prime which, by replacing part of the number (not necessarily adjacent digits) with the same digit, is part of an eight prime value family."
   ]
  },
  {
   "cell_type": "code",
   "execution_count": 26,
   "metadata": {},
   "outputs": [
    {
     "name": "stdout",
     "output_type": "stream",
     "text": [
      "Gotcha!\n",
      "Found first family with of 8 members\n",
      "[121313, 222323, 323333, 424343, 525353, 626363, 828383, 929393]\n"
     ]
    },
    {
     "ename": "KeyboardInterrupt",
     "evalue": "",
     "output_type": "error",
     "traceback": [
      "\u001b[0;31m---------------------------------------------------------------------------\u001b[0m",
      "\u001b[0;31mKeyboardInterrupt\u001b[0m                         Traceback (most recent call last)",
      "\u001b[0;32m<timed exec>\u001b[0m in \u001b[0;36m<module>\u001b[0;34m\u001b[0m\n",
      "\u001b[0;31mKeyboardInterrupt\u001b[0m: "
     ]
    }
   ],
   "source": [
    "%%time\n",
    "from helpers import gen_primes, is_prime\n",
    "from itertools import combinations\n",
    "\n",
    "def list_to_int(list):\n",
    "    # Converting integer list to string list\n",
    "    s = [str(i) for i in list]\n",
    "      \n",
    "    # Join list items using join()\n",
    "    res = int(\"\".join(s))\n",
    "    return res\n",
    "\n",
    "already_explored = []\n",
    "target = 8\n",
    "\n",
    "for n in gen_primes():\n",
    "    # decide how many digits to replace\n",
    "    for choose in range(1,len(str(n))):\n",
    "        # decide locations of digits to replace\n",
    "        digit_list = list(int(i) for i in str(n))\n",
    "        for comb in combinations(range(len(digit_list)), choose):\n",
    "            # the family of prime numbers we found\n",
    "            family = []\n",
    "            \n",
    "            # we can't replace the first digit with a 0\n",
    "            possible_replacements = range(1,10) if 0 in comb else range(0,10)\n",
    "                \n",
    "            # replace digits in the number\n",
    "            for replace in possible_replacements:\n",
    "                local_list = digit_list.copy()\n",
    "                for i in comb:\n",
    "                    local_list[i] = replace\n",
    "                to_try = list_to_int(local_list) \n",
    "                if is_prime(to_try):\n",
    "                    # if prime is already explored then no need to continue this\n",
    "                    if to_try in already_explored:\n",
    "                        break\n",
    "                    family.append(to_try)\n",
    "                \n",
    "            if len(family) == target:\n",
    "                print(\"Gotcha!\")\n",
    "                print(\"Found first family with of {} members\".format(target))\n",
    "                print(family)\n",
    "                raise KeyboardInterrupt\n",
    "                    \n",
    "    already_explored.append(n)"
   ]
  }
 ],
 "metadata": {
  "kernelspec": {
   "display_name": "Python 3",
   "language": "python",
   "name": "python3"
  },
  "language_info": {
   "codemirror_mode": {
    "name": "ipython",
    "version": 3
   },
   "file_extension": ".py",
   "mimetype": "text/x-python",
   "name": "python",
   "nbconvert_exporter": "python",
   "pygments_lexer": "ipython3",
   "version": "3.8.5"
  }
 },
 "nbformat": 4,
 "nbformat_minor": 4
}
