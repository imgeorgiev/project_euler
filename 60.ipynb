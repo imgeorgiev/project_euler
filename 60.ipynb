{
 "cells": [
  {
   "cell_type": "markdown",
   "metadata": {},
   "source": [
    "The primes 3, 7, 109, and 673, are quite remarkable. By taking any two primes and concatenating them in any order the result will always be prime. For example, taking 7 and 109, both 7109 and 1097 are prime. The sum of these four primes, 792, represents the lowest sum for a set of four primes with this property.\n",
    "\n",
    "Find the lowest sum for a set of five primes for which any two primes concatenate to produce another prime."
   ]
  },
  {
   "cell_type": "code",
   "execution_count": 37,
   "metadata": {},
   "outputs": [
    {
     "name": "stdout",
     "output_type": "stream",
     "text": [
      "45.3 µs ± 5.05 µs per loop (mean ± std. dev. of 7 runs, 10000 loops each)\n"
     ]
    }
   ],
   "source": [
    "import itertools\n",
    "from helpers import is_prime\n",
    "import math\n",
    "\n",
    "def concat(a, b):\n",
    "    c = b\n",
    "    while c > 0:\n",
    "        a = a*10\n",
    "        c = c//10\n",
    "    return a + b\n",
    "\n",
    "def special(nums):\n",
    "    for a,b in itertools.combinations(nums, 2):\n",
    "        if not is_prime(concat(a,b)):\n",
    "            return False\n",
    "        if not is_prime(concat(b,a)):\n",
    "            return False\n",
    "    return True\n",
    "\n",
    "def bigger(lst, n):\n",
    "    result = []\n",
    "    for i in lst:\n",
    "        if i>n:\n",
    "            result.append(i)\n",
    "    return result\n",
    "\n",
    "%timeit special([3,7,109,673])"
   ]
  },
  {
   "cell_type": "code",
   "execution_count": 30,
   "metadata": {},
   "outputs": [],
   "source": [
    "from helpers import gen_primes\n",
    "\n",
    "# pre-generate lots of primes \n",
    "primes = []\n",
    "for i in gen_primes():\n",
    "    primes.append(i)\n",
    "    if len(primes) > 1000:\n",
    "        break"
   ]
  },
  {
   "cell_type": "code",
   "execution_count": 38,
   "metadata": {},
   "outputs": [
    {
     "data": {
      "text/plain": [
       "5"
      ]
     },
     "execution_count": 38,
     "metadata": {},
     "output_type": "execute_result"
    }
   ],
   "source": [
    "max([3,5])"
   ]
  },
  {
   "cell_type": "code",
   "execution_count": 45,
   "metadata": {},
   "outputs": [],
   "source": [
    "from tqdm import tqdm\n",
    "from math import comb\n",
    "\n",
    "best_sum = 100000000\n",
    "target_len = 5\n",
    "\n",
    "for comb2 in itertools.combinations(primes, 2):\n",
    "    if special(comb2):\n",
    "        for c3 in bigger(primes, max(comb2)):\n",
    "            if special(list(comb2) + [c3]):\n",
    "                comb3 = list(comb2) + [c3]\n",
    "                for c4 in bigger(primes, max(comb3)):\n",
    "                    if special(comb3 + [c4]):\n",
    "                        comb4 = comb3 + [c4]\n",
    "                        for c5 in bigger(primes, max(comb4)):\n",
    "                            comb = comb4 + [c5]\n",
    "                            if special(comb):\n",
    "                                print(\"Found special set {:} with sum {:}\".format(comb, sum(comb)))\n",
    "                                if sum(comb) < best_sum:\n",
    "                                    print(\"Got a hit\")\n",
    "                                    best_sum = sum(comb)"
   ]
  }
 ],
 "metadata": {
  "kernelspec": {
   "display_name": "Python 3",
   "language": "python",
   "name": "python3"
  },
  "language_info": {
   "codemirror_mode": {
    "name": "ipython",
    "version": 3
   },
   "file_extension": ".py",
   "mimetype": "text/x-python",
   "name": "python",
   "nbconvert_exporter": "python",
   "pygments_lexer": "ipython3",
   "version": "3.8.5"
  }
 },
 "nbformat": 4,
 "nbformat_minor": 4
}
