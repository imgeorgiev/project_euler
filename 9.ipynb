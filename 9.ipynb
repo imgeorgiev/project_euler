{
 "cells": [
  {
   "cell_type": "markdown",
   "metadata": {},
   "source": [
    "A Pythagorean triplet is a set of three natural numbers, a < b < c, for which,\n",
    "\n",
    "\n",
    "$$a^2 + b^2 = c^2$$\n",
    "\n",
    "For example, $3^2 + 4^2 = 9 + 16 = 25 = 5^2$.\n",
    "\n",
    "There exists exactly one Pythagorean triplet for which a + b + c = 1000.\n",
    "Find the product abc.\n",
    "\n",
    "## Solution\n",
    "\n",
    "Need to solve system of equations:\n",
    "\n",
    "$$ a + b + c = 1000 $$\n",
    "$$ a^2 + b^2 = c^2 $$\n",
    "\n",
    "$$ c = 1000 - a - b $$\n",
    "\n",
    "$$ a^2 + b^2 = (1000 - (a + b))^2 $$\n",
    "$$ a^2 + b^2 = 1000^2 - 2000 * (a+b) + (a + b)^2 $$\n",
    "$$ a^2 + b^2 = 1000000 - 2000*(a+b) + a^2 + 2ab + b^2 $$\n",
    "$$ 1000000 - 2000*(a+b) + 2ab = 0 $$\n",
    "$$ -2000(a+b) + 2ab = -10^6 $$\n",
    "\n",
    "assume we know a, then find b\n",
    "$$ -2000a - 2000b + 2ab = -10^6$$\n",
    "$$ b(2a - 2000) = -10^6 + 2000a $$\n",
    "$$ b = \\dfrac{2000a - 10^6}{2a - 2000} $$"
   ]
  },
  {
   "cell_type": "code",
   "execution_count": 26,
   "metadata": {},
   "outputs": [
    {
     "name": "stdout",
     "output_type": "stream",
     "text": [
      "Found it!\n",
      "a=244  b=323  c=433\n",
      "a*b*c=34125596\n"
     ]
    }
   ],
   "source": [
    "import numpy as np\n",
    "import math\n",
    "\n",
    "for a in range(1, 1000):\n",
    "    b = round((-10^6 + 2000*a)/(2*a - 2000))\n",
    "    c = 1000 - a - b\n",
    "    \n",
    "    if not a < b < c:\n",
    "        continue\n",
    "    \n",
    "    if a+b+c != 1000:\n",
    "        \"Error!\"\n",
    "\n",
    "    if a^2 + b^2 == c^2:\n",
    "        print(\"Found it!\")\n",
    "        print(\"a={}  b={}  c={}\".format(a, b, c))\n",
    "        print(\"a*b*c={}\".format(a*b*c))\n",
    "        break"
   ]
  },
  {
   "cell_type": "code",
   "execution_count": 27,
   "metadata": {},
   "outputs": [
    {
     "data": {
      "text/plain": [
       "(1000, True)"
      ]
     },
     "execution_count": 27,
     "metadata": {},
     "output_type": "execute_result"
    }
   ],
   "source": [
    "a + b + c, a^2 + b^2 == c^2"
   ]
  }
 ],
 "metadata": {
  "kernelspec": {
   "display_name": "Python 3",
   "language": "python",
   "name": "python3"
  },
  "language_info": {
   "codemirror_mode": {
    "name": "ipython",
    "version": 3
   },
   "file_extension": ".py",
   "mimetype": "text/x-python",
   "name": "python",
   "nbconvert_exporter": "python",
   "pygments_lexer": "ipython3",
   "version": "3.8.5"
  }
 },
 "nbformat": 4,
 "nbformat_minor": 4
}
