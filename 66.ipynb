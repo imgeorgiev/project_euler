{
 "cells": [
  {
   "cell_type": "markdown",
   "metadata": {},
   "source": [
    "<p>Consider quadratic Diophantine equations of the form:</p>\n",
    "<p class=\"margin_left\"><i>x</i><sup>2</sup> – D<i>y</i><sup>2</sup> = 1</p>\n",
    "<p>For example, when D=13, the minimal solution in <i>x</i> is 649<sup>2</sup> – 13×180<sup>2</sup> = 1.</p>\n",
    "<p>It can be assumed that there are no solutions in positive integers when D is square.</p>\n",
    "<p>By finding minimal solutions in <i>x</i> for D = {2, 3, 5, 6, 7}, we obtain the following:</p>\n",
    "<p class=\"margin_left\">3<sup>2</sup> – 2×2<sup>2</sup> = 1<br />\n",
    "2<sup>2</sup> – 3×1<sup>2</sup> = 1<br /><span class=\"red strong\">9</span><sup>2</sup> – 5×4<sup>2</sup> = 1<br />\n",
    "5<sup>2</sup> – 6×2<sup>2</sup> = 1<br />\n",
    "8<sup>2</sup> – 7×3<sup>2</sup> = 1</p>\n",
    "<p>Hence, by considering minimal solutions in <i>x</i> for D ≤ 7, the largest <i>x</i> is obtained when D=5.</p>\n",
    "<p>Find the value of D ≤ 1000 in minimal solutions of <i>x</i> for which the largest value of <i>x</i> is obtained.</p>\n"
   ]
  },
  {
   "cell_type": "markdown",
   "metadata": {},
   "source": [
    "### Solution\n",
    "\n"
   ]
  },
  {
   "cell_type": "code",
   "execution_count": 19,
   "metadata": {},
   "outputs": [],
   "source": [
    "from helpers import is_to_power, is\n",
    "import math"
   ]
  },
  {
   "cell_type": "code",
   "execution_count": 48,
   "metadata": {},
   "outputs": [],
   "source": [
    "Ds = [D for D in range(1,1001) if math.sqrt(D) > 0.00001]"
   ]
  },
  {
   "cell_type": "code",
   "execution_count": 52,
   "metadata": {},
   "outputs": [
    {
     "name": "stdout",
     "output_type": "stream",
     "text": [
      "Found minimal solution with x=500011 and y=500011\n",
      "This is the newest hit!\n",
      "Found minimal solution with x=665857 and y=470832\n",
      "This is the newest hit!\n",
      "Found minimal solution with x=930249 and y=416020\n",
      "This is the newest hit!\n",
      "Found minimal solution with x=1039681 and y=328776\n",
      "This is the newest hit!\n",
      "Found minimal solution with x=1580050 and y=476403\n",
      "This is the newest hit!\n",
      "Found minimal solution with x=2178806 and y=464523\n",
      "This is the newest hit!\n",
      "Found minimal solution with x=2649601 and y=552480\n",
      "This is the newest hit!\n",
      "Found minimal solution with x=4656965 and y=950599\n",
      "This is the newest hit!\n",
      "Found minimal solution with x=5896813 and y=909898\n",
      "This is the newest hit!\n",
      "Found minimal solution with x=7068593 and y=989801\n",
      "This is the newest hit!\n",
      "Found minimal solution with x=7380481 and y=952816\n",
      "This is the newest hit!\n",
      "Found minimal solution with x=7428430 and y=951113\n",
      "This is the newest hit!\n",
      "Found minimal solution with x=7679063 and y=967471\n",
      "This is the newest hit!\n",
      "Found minimal solution with x=8008333 and y=964090\n",
      "This is the newest hit!\n",
      "Found minimal solution with x=9217009 and y=977001\n",
      "This is the newest hit!\n",
      "Found minimal solution with x=9483830 and y=921151\n",
      "This is the newest hit!\n",
      "Found minimal solution with x=11696399 and y=981540\n",
      "This is the newest hit!\n",
      "Found minimal solution with x=12583093 and y=930169\n",
      "This is the newest hit!\n",
      "Found minimal solution with x=12904144 and y=936165\n",
      "This is the newest hit!\n",
      "Found minimal solution with x=14137186 and y=989801\n",
      "This is the newest hit!\n",
      "Found minimal solution with x=15317639 and y=982627\n",
      "This is the newest hit!\n",
      "Found minimal solution with x=15627627 and y=928966\n",
      "This is the newest hit!\n",
      "Found minimal solution with x=16482217 and y=943769\n",
      "This is the newest hit!\n",
      "Found minimal solution with x=17272675 and y=984202\n",
      "This is the newest hit!\n",
      "Found minimal solution with x=17322499 and y=956475\n",
      "This is the newest hit!\n",
      "Found minimal solution with x=18032335 and y=979382\n",
      "This is the newest hit!\n",
      "Found minimal solution with x=18434018 and y=977001\n",
      "This is the newest hit!\n",
      "Found minimal solution with x=18495361 and y=948792\n",
      "This is the newest hit!\n",
      "Found minimal solution with x=18793138 and y=957787\n",
      "This is the newest hit!\n",
      "Found minimal solution with x=18967660 and y=921151\n",
      "This is the newest hit!\n",
      "Found minimal solution with x=21205779 and y=989801\n",
      "This is the newest hit!\n",
      "Found minimal solution with x=22411531 and y=981867\n",
      "This is the newest hit!\n",
      "Found minimal solution with x=22622863 and y=953440\n",
      "This is the newest hit!\n",
      "Found minimal solution with x=24055511 and y=993724\n",
      "This is the newest hit!\n",
      "Found minimal solution with x=24220799 and y=958160\n",
      "This is the newest hit!\n",
      "Found minimal solution with x=24476384 and y=952021\n",
      "This is the newest hit!\n",
      "Found minimal solution with x=24919672 and y=947989\n",
      "This is the newest hit!\n",
      "Found minimal solution with x=25163653 and y=947718\n",
      "This is the newest hit!\n",
      "Found minimal solution with x=25640523 and y=947701\n",
      "This is the newest hit!\n",
      "Found minimal solution with x=26327669 and y=956264\n",
      "This is the newest hit!\n",
      "Found minimal solution with x=27937940 and y=984683\n",
      "This is the newest hit!\n",
      "Found minimal solution with x=28274372 and y=989801\n",
      "This is the newest hit!\n",
      "Found minimal solution with x=28941121 and y=982892\n",
      "This is the newest hit!\n",
      "Found minimal solution with x=29595133 and y=946348\n",
      "This is the newest hit!\n",
      "Highest x-D is (29595133, 978)\n",
      "CPU times: user 5min 48s, sys: 71.3 ms, total: 5min 48s\n",
      "Wall time: 5min 48s\n"
     ]
    }
   ],
   "source": [
    "%%time\n",
    "\n",
    "largest_x_d = (0,0)\n",
    "for D in Ds:\n",
    "    for y in range(1,1000000):\n",
    "        x = math.sqrt(1 + D * y**2)\n",
    "        if (x % 1.0) < 0.000001:\n",
    "            if x > largest_x_d[0]:\n",
    "                print(\"Found minimal solution with x={:} and y={:}\".format(int(x), y))\n",
    "                print(\"This is the newest hit!\")\n",
    "                largest_x_d = (int(x),D)\n",
    "            \n",
    "            break\n",
    "print(\"Highest x-D is\", largest_x_d)"
   ]
  },
  {
   "cell_type": "code",
   "execution_count": 51,
   "metadata": {},
   "outputs": [
    {
     "data": {
      "text/plain": [
       "3034565.0"
      ]
     },
     "execution_count": 51,
     "metadata": {},
     "output_type": "execute_result"
    }
   ],
   "source": [
    "math.sqrt(1 + 934*99294**2)"
   ]
  }
 ],
 "metadata": {
  "kernelspec": {
   "display_name": "Python 3",
   "language": "python",
   "name": "python3"
  },
  "language_info": {
   "codemirror_mode": {
    "name": "ipython",
    "version": 3
   },
   "file_extension": ".py",
   "mimetype": "text/x-python",
   "name": "python",
   "nbconvert_exporter": "python",
   "pygments_lexer": "ipython3",
   "version": "3.8.5"
  }
 },
 "nbformat": 4,
 "nbformat_minor": 4
}
