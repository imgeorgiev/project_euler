{
 "cells": [
  {
   "cell_type": "markdown",
   "id": "af8ff54b",
   "metadata": {},
   "source": [
    "The first two consecutive numbers to have two distinct prime factors are:\n",
    "\n",
    "$14 = 2 × 7 $\n",
    "\n",
    "$15 = 3 × 5$\n",
    "\n",
    "The first three consecutive numbers to have three distinct prime factors are:\n",
    "\n",
    "$644 = 2² × 7 × 23$\n",
    "\n",
    "$645 = 3 × 5 × 43$\n",
    "\n",
    "$646 = 2 × 17 × 19$\n",
    "\n",
    "Find the first four consecutive integers to have four distinct prime factors each. What is the first of these numbers?"
   ]
  },
  {
   "cell_type": "code",
   "execution_count": 59,
   "id": "6907e986",
   "metadata": {},
   "outputs": [
    {
     "data": {
      "text/plain": [
       "(True, (2, 17, 19))"
      ]
     },
     "execution_count": 59,
     "metadata": {},
     "output_type": "execute_result"
    }
   ],
   "source": [
    "def has_distictive_primes(n, powerup_attempts=10):\n",
    "    powerup_attempts = 100\n",
    "\n",
    "    divs = divisors(n)\n",
    "    primes = [n for n in divs if is_prime(n)]\n",
    "    for L in range(1, len(primes)+1):\n",
    "        for subset in itertools.combinations(primes, L):\n",
    "            product = reduce(lambda x, y: x*y, subset)\n",
    "            if (n == product):\n",
    "#                 print(\"Found {:} = {:}\".format(n, subset))\n",
    "                return True, subset\n",
    "            product_attempt = product\n",
    "            extra_products = []\n",
    "            for i in range(powerup_attempts):\n",
    "                extra_products += [subset[randint(len(subset))]]\n",
    "                product_attempt *= extra_products[-1]\n",
    "                if product_attempt == n:\n",
    "#                     print(\"Found {:} = {:} with extras {:}\".format(n, subset, extra_products))\n",
    "                    return True, list(subset) + extra_products\n",
    "                if product_attempt > n:\n",
    "                    product_attempt = product\n",
    "                    extra_products = []\n",
    "    return False, []\n",
    "\n",
    "has_distictive_primes(646)"
   ]
  },
  {
   "cell_type": "code",
   "execution_count": 60,
   "id": "290356b0",
   "metadata": {},
   "outputs": [
    {
     "name": "stderr",
     "output_type": "stream",
     "text": [
      "  0%|          | 134045/999999999 [05:44<712:51:09, 389.62it/s] "
     ]
    },
    {
     "name": "stdout",
     "output_type": "stream",
     "text": [
      "Found consequtives [134043, 134044, 134045, 134046]\n"
     ]
    },
    {
     "name": "stderr",
     "output_type": "stream",
     "text": [
      "\n"
     ]
    }
   ],
   "source": [
    "from tqdm import tqdm\n",
    "\n",
    "target_consequtive = 4\n",
    "target_distincts = 4\n",
    "maxi = 1000000000\n",
    "\n",
    "consequtive = 0\n",
    "for n in tqdm(range(1, maxi)):\n",
    "    result = has_distictive_primes(n)\n",
    "    if result[0] and len(set(result[1])) == target_distincts:\n",
    "        consequtive += 1\n",
    "    else:\n",
    "        consequtive = 0\n",
    "    \n",
    "    if consequtive == target_consequtive:\n",
    "        print(\"Found consequtives\", list(range(n - target_consequtive + 1, n+1)))\n",
    "        break"
   ]
  },
  {
   "cell_type": "code",
   "execution_count": 32,
   "id": "6108930f",
   "metadata": {},
   "outputs": [
    {
     "name": "stdout",
     "output_type": "stream",
     "text": [
      "Found 644 = (2, 7, 23) with extras [2]\n",
      "[2, 7, 23, 2]\n"
     ]
    }
   ],
   "source": [
    "from helpers import divisors, is_prime\n",
    "from functools import reduce\n",
    "import itertools\n",
    "from numpy.random import randint\n",
    "\n",
    "n = 644\n",
    "max_power = 5\n",
    "powerup_attempts = 100\n",
    "\n",
    "divs = divisors(n)\n",
    "primes = [n for n in divs if is_prime(n)]\n",
    "for L in range(1, len(primes)+1):\n",
    "    for subset in itertools.combinations(primes, L):\n",
    "        product = reduce(lambda x, y: x*y, subset)\n",
    "        if (n == product):\n",
    "            print(\"Found {:} = {:}\".format(n, subset))\n",
    "        product_attempt = product\n",
    "        extra_products = []\n",
    "        for i in range(powerup_attempts):\n",
    "            extra_products += [subset[randint(len(subset))]]\n",
    "            product_attempt *= extra_products[-1]\n",
    "            if product_attempt == n:\n",
    "                print(\"Found {:} = {:} with extras {:}\".format(n, subset, extra_products))\n",
    "                print(list(subset) + extra_products)\n",
    "                break\n",
    "            if product_attempt > n:\n",
    "                product_attempt = product\n",
    "                extra_products = []\n",
    "                \n",
    "            "
   ]
  },
  {
   "cell_type": "code",
   "execution_count": 11,
   "id": "2f0433eb",
   "metadata": {},
   "outputs": [
    {
     "name": "stdout",
     "output_type": "stream",
     "text": [
      "(1, 2)\n",
      "(1, 3)\n",
      "(2, 3)\n"
     ]
    }
   ],
   "source": [
    "\n",
    "stuff = [1, 2, 3]\n",
    "for L in range(0, len(stuff)+1):\n",
    "    for subset in itertools.combinations(stuff, L):\n",
    "        print(subset)"
   ]
  }
 ],
 "metadata": {
  "kernelspec": {
   "display_name": "Python 3",
   "language": "python",
   "name": "python3"
  },
  "language_info": {
   "codemirror_mode": {
    "name": "ipython",
    "version": 3
   },
   "file_extension": ".py",
   "mimetype": "text/x-python",
   "name": "python",
   "nbconvert_exporter": "python",
   "pygments_lexer": "ipython3",
   "version": "3.9.1"
  }
 },
 "nbformat": 4,
 "nbformat_minor": 5
}
