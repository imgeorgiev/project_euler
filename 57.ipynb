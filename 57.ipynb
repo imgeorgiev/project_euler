{
 "cells": [
  {
   "cell_type": "markdown",
   "metadata": {},
   "source": [
    "It is possible to show that the square root of two can be expressed as an infinite continued fraction.\n",
    "\n",
    " \n",
    " \n",
    " \n",
    "\n",
    "By expanding this for the first four iterations, we get:\n",
    "\n",
    " \n",
    " \n",
    "\n",
    " \n",
    " \n",
    " \n",
    "\n",
    " \n",
    " \n",
    " \n",
    " \n",
    "\n",
    " \n",
    " \n",
    " \n",
    " \n",
    " \n",
    "\n",
    "\n",
    "The next three expansions are \n",
    " \n",
    ", \n",
    " \n",
    ", and \n",
    " \n",
    ", but the eighth expansion, \n",
    " \n",
    ", is the first example where the number of digits in the numerator exceeds the number of digits in the denominator.\n",
    "\n",
    "In the first one-thousand expansions, how many fractions contain a numerator with more digits than the denominator?"
   ]
  },
  {
   "cell_type": "code",
   "execution_count": 33,
   "metadata": {},
   "outputs": [
    {
     "data": {
      "text/plain": [
       "(3, 2)"
      ]
     },
     "execution_count": 33,
     "metadata": {},
     "output_type": "execute_result"
    }
   ],
   "source": [
    "from fractions import Fraction\n",
    "from decimal import *\n",
    "getcontext().prec = 10000\n",
    "\n",
    "x = Fraction('1.5')\n",
    "x.numerator, x.denominator"
   ]
  },
  {
   "cell_type": "code",
   "execution_count": 35,
   "metadata": {},
   "outputs": [
    {
     "name": "stdout",
     "output_type": "stream",
     "text": [
      "Got 153 hits\n"
     ]
    }
   ],
   "source": [
    "# compute fractions\n",
    "nums = [Fraction(1.5)]\n",
    "hits = 0\n",
    "for i in range(1000):\n",
    "    new = Fraction(1) + Fraction(1)/Fraction(Fraction(2)+nums[-1]-Fraction(1))\n",
    "#     print(new)\n",
    "#     frac = Fraction(str(new))\n",
    "#     print(str(frac.numerator), str(frac.denominator))\n",
    "    if len(str(new.numerator)) > len(str(new.denominator)):\n",
    "        hits += 1\n",
    "    nums.append(new)\n",
    "print(\"Got {:} hits\".format(hits))"
   ]
  },
  {
   "cell_type": "code",
   "execution_count": 36,
   "metadata": {},
   "outputs": [
    {
     "data": {
      "text/plain": [
       "1001"
      ]
     },
     "execution_count": 36,
     "metadata": {},
     "output_type": "execute_result"
    }
   ],
   "source": [
    "len(nums)"
   ]
  },
  {
   "cell_type": "code",
   "execution_count": 13,
   "metadata": {},
   "outputs": [
    {
     "data": {
      "text/plain": [
       "Fraction(3152519739159347, 2251799813685248)"
      ]
     },
     "execution_count": 13,
     "metadata": {},
     "output_type": "execute_result"
    }
   ],
   "source": [
    "Fraction(1.4)"
   ]
  }
 ],
 "metadata": {
  "kernelspec": {
   "display_name": "Python 3",
   "language": "python",
   "name": "python3"
  },
  "language_info": {
   "codemirror_mode": {
    "name": "ipython",
    "version": 3
   },
   "file_extension": ".py",
   "mimetype": "text/x-python",
   "name": "python",
   "nbconvert_exporter": "python",
   "pygments_lexer": "ipython3",
   "version": "3.8.5"
  }
 },
 "nbformat": 4,
 "nbformat_minor": 4
}
