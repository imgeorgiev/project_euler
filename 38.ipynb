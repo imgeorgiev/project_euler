{
 "cells": [
  {
   "cell_type": "markdown",
   "id": "1c318dd5",
   "metadata": {},
   "source": [
    "Take the number 192 and multiply it by each of 1, 2, and 3:\n",
    "\n",
    "```\n",
    "192 × 1 = 192\n",
    "192 × 2 = 384\n",
    "192 × 3 = 576\n",
    "```\n",
    "\n",
    "By concatenating each product we get the 1 to 9 pandigital, 192384576. We will call 192384576 the concatenated product of 192 and (1,2,3)\n",
    "\n",
    "The same can be achieved by starting with 9 and multiplying by 1, 2, 3, 4, and 5, giving the pandigital, 918273645, which is the concatenated product of 9 and (1,2,3,4,5).\n",
    "\n",
    "What is the largest 1 to 9 pandigital 9-digit number that can be formed as the concatenated product of an integer with (1,2, ... , n) where n > 1?"
   ]
  },
  {
   "cell_type": "code",
   "execution_count": 7,
   "id": "33f5825a",
   "metadata": {},
   "outputs": [],
   "source": [
    "from tqdm import tqdm\n",
    "\n",
    "def gen_pandigital(num, n):\n",
    "    s = \"\"\n",
    "    for i in range(1, n+1):\n",
    "        s += str(num*i)\n",
    "    return int(s)\n",
    "\n",
    "\n",
    "def is_pandigital(num, n):\n",
    "    num_str = str(num)\n",
    "    for i in range(1, n+1):\n",
    "        if str(i) not in num_str:\n",
    "            return False\n",
    "    return True"
   ]
  },
  {
   "cell_type": "code",
   "execution_count": 8,
   "id": "014e6446",
   "metadata": {},
   "outputs": [
    {
     "data": {
      "text/plain": [
       "True"
      ]
     },
     "execution_count": 8,
     "metadata": {},
     "output_type": "execute_result"
    }
   ],
   "source": [
    "# Make sure the functions work\n",
    "n = 3\n",
    "num = gen_pandigital(192, n)\n",
    "is_pandigital(num, n)"
   ]
  },
  {
   "cell_type": "code",
   "execution_count": 28,
   "id": "6c1290fb",
   "metadata": {},
   "outputs": [
    {
     "name": "stderr",
     "output_type": "stream",
     "text": [
      "100%|██████████| 9997/9997 [00:00<00:00, 90367.56it/s]"
     ]
    },
    {
     "name": "stdout",
     "output_type": "stream",
     "text": [
      "Largest hit is 932718654\n",
      "113 ms ± 0 ns per loop (mean ± std. dev. of 1 run, 1 loop each)\n"
     ]
    },
    {
     "name": "stderr",
     "output_type": "stream",
     "text": [
      "\n"
     ]
    }
   ],
   "source": [
    "%%timeit -n1 -r1\n",
    "\n",
    "hits = []\n",
    "for i in tqdm(range(2, 9999)): # base number\n",
    "#     for j in range(2, 9//len(str(i))): # integer product\n",
    "    for j in range(2, 10): # integer product\n",
    "        test = gen_pandigital(i,j)\n",
    "        if len(str(test)) != 9:\n",
    "            continue\n",
    "        if is_pandigital(test, 9):\n",
    "            hits.append(test)\n",
    "\n",
    "hits.sort()\n",
    "print(\"Largest hit is\", hits[-1])"
   ]
  }
 ],
 "metadata": {
  "kernelspec": {
   "display_name": "Python 3",
   "language": "python",
   "name": "python3"
  },
  "language_info": {
   "codemirror_mode": {
    "name": "ipython",
    "version": 3
   },
   "file_extension": ".py",
   "mimetype": "text/x-python",
   "name": "python",
   "nbconvert_exporter": "python",
   "pygments_lexer": "ipython3",
   "version": "3.9.1"
  }
 },
 "nbformat": 4,
 "nbformat_minor": 5
}
