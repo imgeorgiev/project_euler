{
 "cells": [
  {
   "cell_type": "markdown",
   "metadata": {},
   "source": [
    "We shall say that an n-digit number is pandigital if it makes use of all the digits 1 to n exactly once; for example, the 5-digit number, 15234, is 1 through 5 pandigital.\n",
    "\n",
    "The product 7254 is unusual, as the identity, 39 × 186 = 7254, containing multiplicand, multiplier, and product is 1 through 9 pandigital.\n",
    "\n",
    "Find the sum of all products whose multiplicand/multiplier/product identity can be written as a 1 through 9 pandigital.\n",
    "\n",
    "HINT: Some products can be obtained in more than one way so be sure to only include it once in your sum."
   ]
  },
  {
   "cell_type": "code",
   "execution_count": 1,
   "metadata": {},
   "outputs": [],
   "source": [
    "def n_in_n(n1, n2):\n",
    "    n2 = str(n2)\n",
    "    for i in str(n1):\n",
    "        if i in n2:\n",
    "            return True\n",
    "    return False"
   ]
  },
  {
   "cell_type": "code",
   "execution_count": 27,
   "metadata": {},
   "outputs": [
    {
     "name": "stdout",
     "output_type": "stream",
     "text": [
      "Got a hit 4 1738 6952\n",
      "Got a hit 4 1963 7852\n",
      "Got a hit 12 483 5796\n",
      "Got a hit 18 297 5346\n",
      "Got a hit 28 157 4396\n",
      "Got a hit 39 186 7254\n",
      "Got a hit 48 159 7632\n",
      "The sum of all hits is 45228\n"
     ]
    }
   ],
   "source": [
    "max_n = 3000\n",
    "hits = []\n",
    "for i in range(1,max_n):\n",
    "    \n",
    "    # skip 0s for efficiency\n",
    "    if n_in_n(0, i):\n",
    "        continue\n",
    "        \n",
    "    for j in range(1,max_n):\n",
    "        \n",
    "        # skip 0s for efficiency\n",
    "        if n_in_n(0, i):\n",
    "            continue\n",
    "            \n",
    "        # skip if we have duplicants in multiplicand and multiplier for efficiency\n",
    "        if n_in_n(j,i):\n",
    "            continue\n",
    "            \n",
    "        prod = i * j\n",
    "        \n",
    "        # sort numbers and check if it is a hit\n",
    "        candidate = []\n",
    "        for each in [i, j, prod]:\n",
    "            candidate.extend(list(str(each)))\n",
    "        candidate.sort()\n",
    "        \n",
    "        if candidate == ['1', '2', '3', '4', '5', '6', '7', '8', '9']:\n",
    "            if not prod in hits:\n",
    "                print(\"Got a hit\", i, j, prod)\n",
    "                hits.append(prod)\n",
    "            \n",
    "print(\"The sum of all hits is\", sum(hits))"
   ]
  }
 ],
 "metadata": {
  "kernelspec": {
   "display_name": "Python 3",
   "language": "python",
   "name": "python3"
  },
  "language_info": {
   "codemirror_mode": {
    "name": "ipython",
    "version": 3
   },
   "file_extension": ".py",
   "mimetype": "text/x-python",
   "name": "python",
   "nbconvert_exporter": "python",
   "pygments_lexer": "ipython3",
   "version": "3.8.5"
  }
 },
 "nbformat": 4,
 "nbformat_minor": 4
}
