{
 "cells": [
  {
   "cell_type": "markdown",
   "metadata": {},
   "source": [
    "There are exactly ten ways of selecting three from five, 12345:\n",
    "\n",
    "\n",
    "123, 124, 125, 134, 135, 145, 234, 235, 245, and 345\n",
    "\n",
    "\n",
    "In combinatorics, we use the notation, ${{5}\\choose{3}} = 10$.\n",
    "\n",
    "In general, ${{n}\\choose{r}} = \\dfrac{n!}{r!(n-r)!}$, where $r \\leq n, n! = n \\times (n-1) \\times ... \\times 3 \\times 2 \\times 1$ and $0! = 1$.\n",
    "\n",
    "It is not until $n=23$, that a value exceeds one-million ${{23}\\choose{10}} = 1144066$.\n",
    "\n",
    "How many, not necessarily distinct, values of ${{n}\\choose{r}}$ for $1 \\leq n \\leq 100$, are greater than one-million?"
   ]
  },
  {
   "cell_type": "code",
   "execution_count": 59,
   "metadata": {},
   "outputs": [
    {
     "data": {
      "text/plain": [
       "10"
      ]
     },
     "execution_count": 59,
     "metadata": {},
     "output_type": "execute_result"
    }
   ],
   "source": [
    "import numpy as np\n",
    "\n",
    "def fact(n):\n",
    "    if n == 0:\n",
    "        return 1\n",
    "    else:\n",
    "        return np.prod(np.arange(1,n+1, dtype=object))\n",
    "    \n",
    "def comb(n,r):\n",
    "    return fact(n)//(fact(r) * fact(n-r))\n",
    "#     if r > n-r:\n",
    "#         return np.prod(np.arange(r+1,n+1)) // np.prod(np.arange(1,n-r+1))\n",
    "#     else:\n",
    "#         return np.prod(np.arange(n-r+1,n+1)) // np.prod(np.arange(1,r+1))\n",
    "    \n",
    "\n",
    "comb(5,3)"
   ]
  },
  {
   "cell_type": "code",
   "execution_count": 63,
   "metadata": {},
   "outputs": [
    {
     "name": "stdout",
     "output_type": "stream",
     "text": [
      "Found 4075 hits\n"
     ]
    }
   ],
   "source": [
    "count = 0\n",
    "for n in range(1,101):\n",
    "    for r in range(1, n):\n",
    "        if comb(n,r) > 1000000:\n",
    "            count += 1\n",
    "\n",
    "print(\"Found\", count, \"hits\")"
   ]
  },
  {
   "cell_type": "code",
   "execution_count": 62,
   "metadata": {},
   "outputs": [
    {
     "data": {
      "text/plain": [
       "24670925422945900903156716"
      ]
     },
     "execution_count": 62,
     "metadata": {},
     "output_type": "execute_result"
    }
   ],
   "source": [
    "comb(94, 61)"
   ]
  }
 ],
 "metadata": {
  "kernelspec": {
   "display_name": "Python 3",
   "language": "python",
   "name": "python3"
  },
  "language_info": {
   "codemirror_mode": {
    "name": "ipython",
    "version": 3
   },
   "file_extension": ".py",
   "mimetype": "text/x-python",
   "name": "python",
   "nbconvert_exporter": "python",
   "pygments_lexer": "ipython3",
   "version": "3.8.5"
  }
 },
 "nbformat": 4,
 "nbformat_minor": 4
}
