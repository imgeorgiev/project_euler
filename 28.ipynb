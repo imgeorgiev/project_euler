{
 "cells": [
  {
   "cell_type": "markdown",
   "metadata": {},
   "source": [
    "Starting with the number 1 and moving to the right in a clockwise direction a 5 by 5 spiral is formed as follows:\n",
    "\n",
    "```\n",
    "43 44 45 46 47 48 49\n",
    "42 21 22 23 24 25 26\n",
    "41 20  7  8  9 10 27\n",
    "40 19  6  1  2 11 28\n",
    "39 18  5  4  3 12 29\n",
    "38 17 16 15 14 13 30\n",
    "37 36 35 34 33 32 31\n",
    "```\n",
    "\n",
    "It can be verified that the sum of the numbers on the diagonals is 101.\n",
    "\n",
    "What is the sum of the numbers on the diagonals in a 1001 by 1001 spiral formed in the same way?"
   ]
  },
  {
   "cell_type": "markdown",
   "metadata": {},
   "source": [
    "Solution:\n",
    "\n",
    "This question is more about pattern recognition more than anything. It's also somewhat related to the golden ratio and fibbonacci numbers.\n",
    "\n",
    "The idea is that each number is associated with a width in its place on the grid. numbers 1, 3, 7, 13 have grid sizes of 1, 3, 3, 5 respectively. If we call the n-th sequantial number on the diagonal as $a_n$, then $a_1 = 1$, $a_2=3$, $a_3=5$ and so on. The width of a number at $n$ is $w_n=1 + \\floor{\\frac{n}{4}}*2$. Then we can obtain $a_n = a_{n-1} + w_n + 1 $\n",
    "\n",
    "| num | width | sum |\n",
    "| --- | ---   | --- |\n",
    "| 1   | 1     | 1   |\n",
    "| 3   | 3     | 1+1+1    |\n",
    "| 5   | 3     | 3+1+1    |\n",
    "| 7   | 3     | 5+1+1    |\n",
    "| 9   | 3     | 7+1+1    |\n",
    "| 13  | 5     | 9+3+1    |\n",
    "| 17  | 5     | 13+3+1    |\n",
    "| 21  | 5     | 17+3+1    |\n",
    "| 25  | 5     | 21+3+1    |\n",
    "| 31  | 7     | 25+5+1    |\n",
    "| 37  | 7     | 31+5+1 |\n",
    "| 43  | 7     | 37+5+1 |\n",
    "| 49  | 7     | 43+5+1 |"
   ]
  },
  {
   "cell_type": "code",
   "execution_count": 35,
   "metadata": {},
   "outputs": [
    {
     "name": "stdout",
     "output_type": "stream",
     "text": [
      "The sum of the diagonal of a 5 grid is 37\n"
     ]
    }
   ],
   "source": [
    "def w(n):\n",
    "    if n == 0:\n",
    "        return 1\n",
    "    else:\n",
    "        return 1 + ((n-1)//4 + 1)*2\n",
    "\n",
    "diagonal = [1] # start with 1 which is a special case\n",
    "grid_size = 5\n",
    "\n",
    "while len(diagonal) != grid_size:\n",
    "    n = len(diagonal)\n",
    "    new_num = diagonal[-1] + w(n-1) + 1\n",
    "    diagonal.append(new_num)\n",
    "\n",
    "print(\"The sum of the diagonal of a {:} grid is {:}\".format(grid_size, sum(diagonal)))"
   ]
  },
  {
   "cell_type": "code",
   "execution_count": 36,
   "metadata": {},
   "outputs": [
    {
     "data": {
      "text/plain": [
       "[1, 3, 7, 11, 15]"
      ]
     },
     "execution_count": 36,
     "metadata": {},
     "output_type": "execute_result"
    }
   ],
   "source": [
    "diagonal"
   ]
  }
 ],
 "metadata": {
  "kernelspec": {
   "display_name": "Python 3",
   "language": "python",
   "name": "python3"
  },
  "language_info": {
   "codemirror_mode": {
    "name": "ipython",
    "version": 3
   },
   "file_extension": ".py",
   "mimetype": "text/x-python",
   "name": "python",
   "nbconvert_exporter": "python",
   "pygments_lexer": "ipython3",
   "version": "3.8.5"
  }
 },
 "nbformat": 4,
 "nbformat_minor": 4
}
