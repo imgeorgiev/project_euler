{
 "cells": [
  {
   "cell_type": "markdown",
   "metadata": {},
   "source": [
    "If the numbers 1 to 5 are written out in words: one, two, three, four, five, then there are 3 + 3 + 5 + 4 + 4 = 19 letters used in total.\n",
    "\n",
    "If all the numbers from 1 to 1000 (one thousand) inclusive were written out in words, how many letters would be used?\n",
    "\n",
    "\n",
    "NOTE: Do not count spaces or hyphens. For example, 342 (three hundred and forty-two) contains 23 letters and 115 (one hundred and fifteen) contains 20 letters. The use of \"and\" when writing out numbers is in compliance with British usage."
   ]
  },
  {
   "cell_type": "code",
   "execution_count": 36,
   "metadata": {},
   "outputs": [],
   "source": [
    "# single digits\n",
    "single = {0: 0, # placeholder\n",
    "          1: 3, # one\n",
    "         2: 3,  # two\n",
    "         3: 5,  # three\n",
    "         4: 4,  # four\n",
    "         5: 4,  # five\n",
    "         6: 3,  # six\n",
    "         7: 5,  # seven\n",
    "         8: 5,  # eight\n",
    "         9: 4,  # nine\n",
    "         10: 11 # one thousand\n",
    "         }\n",
    "\n",
    "teens = {11: 6, # eleven\n",
    "         12: 6, # twelve\n",
    "         13: 8, # thirteen\n",
    "         14: 8, # fourteen\n",
    "         15: 7, # fifteen\n",
    "         16: 7, # sixteen\n",
    "         17: 9, # seventeen\n",
    "         18: 8, # eighteen\n",
    "         19: 8, # nineteen\n",
    "        }\n",
    "\n",
    "tens = {1: 3, # ten\n",
    "        2: 6, # twenty\n",
    "        3: 6, # thirty\n",
    "        4: 5, # forty\n",
    "        5: 5, # fifty\n",
    "        6: 5, # sixty\n",
    "        7: 7, # seventy\n",
    "        8: 6, # eighty\n",
    "        9: 6, # ninety\n",
    "       }"
   ]
  },
  {
   "cell_type": "code",
   "execution_count": 38,
   "metadata": {},
   "outputs": [
    {
     "name": "stdout",
     "output_type": "stream",
     "text": [
      "Total is 21421\n"
     ]
    }
   ],
   "source": [
    "total = 0\n",
    "for i in range(1, 1001):\n",
    "    # deal with hundreds\n",
    "    total += single[i//100]\n",
    "    if 0 < i//100 < 10:\n",
    "        # add 'hendred' aka 7\n",
    "        total += 7\n",
    "\n",
    "    # deal with the rest\n",
    "    remainder = i%100\n",
    "    if remainder > 0:\n",
    "        # add 'and' aka 3\n",
    "        total += 3\n",
    "    elif remainder < 0:\n",
    "        print(\"Something is off with number {} and remainder {}\".format(i, remainder))\n",
    "    \n",
    "    if 0 <= remainder < 10:\n",
    "        # single digit left\n",
    "        total += single[remainder]\n",
    "    elif 10 < remainder < 20:\n",
    "        # deal with teen numbers\n",
    "        total += teens[remainder]\n",
    "    elif remainder % 10 == 0:\n",
    "        # round tens number\n",
    "        total += tens[remainder//10]\n",
    "    else:\n",
    "        # captutre the remindare cases, eg. 38, 49, 29, 48\n",
    "        total += tens[remainder//10]\n",
    "        total += single[remainder%10]\n",
    "        \n",
    "print(\"Total is\", total)"
   ]
  },
  {
   "cell_type": "code",
   "execution_count": 45,
   "metadata": {},
   "outputs": [
    {
     "name": "stdout",
     "output_type": "stream",
     "text": [
      "5\n"
     ]
    }
   ],
   "source": [
    "total = 0\n",
    "# eg. 948 - nine hundred fourty-eight\n",
    "i = 3\n",
    "\n",
    "# deal with hundreds\n",
    "total += single[i//100]\n",
    "if 0 < i//100 < 10:\n",
    "    # add 'hendred' aka 7\n",
    "    total += 7\n",
    "    \n",
    "    if i%100 > 0:\n",
    "        # add 'and'\n",
    "        total += 3\n",
    "\n",
    "# deal with the rest\n",
    "remainder = i%100\n",
    "\n",
    "if 0 <= remainder < 10:\n",
    "    # single digit left\n",
    "    total += single[remainder]\n",
    "elif 10 < remainder < 20:\n",
    "    # deal with teen numbers\n",
    "    total += teens[remainder]\n",
    "elif remainder % 10 == 0:\n",
    "    # round tens number\n",
    "    total += tens[remainder//10]\n",
    "else:\n",
    "    # captutre the remindare cases, eg. 38, 49, 29, 48\n",
    "    total += tens[remainder//10]\n",
    "    total += single[remainder%10]\n",
    "    \n",
    "print(total)"
   ]
  },
  {
   "cell_type": "code",
   "execution_count": null,
   "metadata": {},
   "outputs": [],
   "source": []
  },
  {
   "cell_type": "code",
   "execution_count": 18,
   "metadata": {},
   "outputs": [
    {
     "data": {
      "text/plain": [
       "7"
      ]
     },
     "execution_count": 18,
     "metadata": {},
     "output_type": "execute_result"
    }
   ],
   "source": [
    "remainder = 957%100\n",
    "remainder % 10"
   ]
  }
 ],
 "metadata": {
  "kernelspec": {
   "display_name": "Python 3",
   "language": "python",
   "name": "python3"
  },
  "language_info": {
   "codemirror_mode": {
    "name": "ipython",
    "version": 3
   },
   "file_extension": ".py",
   "mimetype": "text/x-python",
   "name": "python",
   "nbconvert_exporter": "python",
   "pygments_lexer": "ipython3",
   "version": "3.8.5"
  }
 },
 "nbformat": 4,
 "nbformat_minor": 4
}
