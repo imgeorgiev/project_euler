{
 "cells": [
  {
   "cell_type": "markdown",
   "metadata": {},
   "source": [
    "The arithmetic sequence, 1487, 4817, 8147, in which each of the terms increases by 3330, is unusual in two ways: (i) each of the three terms are prime, and, (ii) each of the 4-digit numbers are permutations of one another.\n",
    "\n",
    "There are no arithmetic sequences made up of three 1-, 2-, or 3-digit primes, exhibiting this property, but there is one other 4-digit increasing sequence.\n",
    "\n",
    "What 12-digit number do you form by concatenating the three terms in this sequence?"
   ]
  },
  {
   "cell_type": "code",
   "execution_count": 33,
   "metadata": {},
   "outputs": [
    {
     "ename": "AttributeError",
     "evalue": "'collections.defaultdict' object has no attribute 'itervalues'",
     "output_type": "error",
     "traceback": [
      "\u001b[0;31m---------------------------------------------------------------------------\u001b[0m",
      "\u001b[0;31mAttributeError\u001b[0m                            Traceback (most recent call last)",
      "\u001b[0;32m<ipython-input-33-8caac42e4faa>\u001b[0m in \u001b[0;36m<module>\u001b[0;34m\u001b[0m\n\u001b[0;32m----> 1\u001b[0;31m \u001b[0mare_permutation\u001b[0m\u001b[0;34m(\u001b[0m\u001b[0;34m\"1013\"\u001b[0m\u001b[0;34m,\u001b[0m \u001b[0;34m\"4013\"\u001b[0m\u001b[0;34m)\u001b[0m\u001b[0;34m\u001b[0m\u001b[0;34m\u001b[0m\u001b[0m\n\u001b[0m",
      "\u001b[0;32m<ipython-input-32-00098b02508e>\u001b[0m in \u001b[0;36mare_permutation\u001b[0;34m(a, b)\u001b[0m\n\u001b[1;32m      8\u001b[0m     \u001b[0;32mfor\u001b[0m \u001b[0mx\u001b[0m \u001b[0;32min\u001b[0m \u001b[0mb\u001b[0m\u001b[0;34m:\u001b[0m\u001b[0;34m\u001b[0m\u001b[0;34m\u001b[0m\u001b[0m\n\u001b[1;32m      9\u001b[0m         \u001b[0md\u001b[0m\u001b[0;34m[\u001b[0m\u001b[0mx\u001b[0m\u001b[0;34m]\u001b[0m \u001b[0;34m-=\u001b[0m \u001b[0;36m1\u001b[0m\u001b[0;34m\u001b[0m\u001b[0;34m\u001b[0m\u001b[0m\n\u001b[0;32m---> 10\u001b[0;31m     \u001b[0;32mreturn\u001b[0m \u001b[0;32mnot\u001b[0m \u001b[0many\u001b[0m\u001b[0;34m(\u001b[0m\u001b[0md\u001b[0m\u001b[0;34m.\u001b[0m\u001b[0mitervalues\u001b[0m\u001b[0;34m(\u001b[0m\u001b[0;34m)\u001b[0m\u001b[0;34m)\u001b[0m\u001b[0;34m\u001b[0m\u001b[0;34m\u001b[0m\u001b[0m\n\u001b[0m\u001b[1;32m     11\u001b[0m \u001b[0;34m\u001b[0m\u001b[0m\n\u001b[1;32m     12\u001b[0m \u001b[0;32mdef\u001b[0m \u001b[0mis_special\u001b[0m\u001b[0;34m(\u001b[0m\u001b[0mstart\u001b[0m\u001b[0;34m,\u001b[0m \u001b[0mincrement\u001b[0m\u001b[0;34m)\u001b[0m\u001b[0;34m:\u001b[0m\u001b[0;34m\u001b[0m\u001b[0;34m\u001b[0m\u001b[0m\n",
      "\u001b[0;31mAttributeError\u001b[0m: 'collections.defaultdict' object has no attribute 'itervalues'"
     ]
    }
   ],
   "source": [
    "are_permutation(\"1013\", \"4013\")"
   ]
  },
  {
   "cell_type": "code",
   "execution_count": 32,
   "metadata": {},
   "outputs": [],
   "source": [
    "from helpers import is_prime\n",
    "import collections\n",
    "\n",
    "def are_permutation(a, b):\n",
    "    d = collections.defaultdict(int)\n",
    "    for x in a:\n",
    "        d[x] += 1\n",
    "    for x in b:\n",
    "        d[x] -= 1\n",
    "    return not any(d.itervalues())\n",
    "\n",
    "def is_special(start, increment):\n",
    "    nums = [start, start + increment, start + 2*increment]\n",
    "    \n",
    "    if nums[-1] > 10000:\n",
    "        return False\n",
    "    \n",
    "    for n in nums:\n",
    "        if not is_prime(n):\n",
    "            return False\n",
    "        if not are_permutation(str(n), str(start)):\n",
    "            return False\n",
    "    return True\n",
    "           "
   ]
  },
  {
   "cell_type": "code",
   "execution_count": 26,
   "metadata": {},
   "outputs": [
    {
     "name": "stdout",
     "output_type": "stream",
     "text": [
      "Found it with 1013 3000\n",
      "Found it with 1019 3000\n",
      "Found it with 1021 2040\n",
      "Found it with 1031 2010\n",
      "Found it with 1031 3990\n",
      "Found it with 1061 1980\n",
      "Found it with 1061 3990\n",
      "Found it with 1091 3960\n",
      "Found it with 1093 4008\n",
      "Found it with 1123 1998\n",
      "Found it with 1129 1992\n",
      "Found it with 1181 3990\n",
      "Found it with 1201 3906\n",
      "Found it with 1223 3498\n",
      "Found it with 1249 2982\n",
      "Found it with 1297 1416\n",
      "Found it with 1301 2400\n",
      "Found it with 1487 3330\n",
      "Found it with 1511 1200\n",
      "Found it with 1511 2400\n",
      "Found it with 1511 2700\n",
      "Found it with 1543 1644\n",
      "Found it with 1543 3888\n",
      "Found it with 1601 2100\n",
      "Found it with 1601 3450\n",
      "Found it with 1693 3720\n",
      "Found it with 1723 1248\n",
      "Found it with 1801 1500\n",
      "Found it with 1801 2250\n",
      "Found it with 1801 3900\n",
      "Found it with 1901 1800\n",
      "Found it with 2011 2040\n",
      "Found it with 2011 3000\n",
      "Found it with 2017 1002\n",
      "Found it with 2017 1092\n",
      "Found it with 2081 2010\n",
      "Found it with 2081 3000\n",
      "Found it with 2111 1800\n",
      "Found it with 2111 2100\n",
      "Found it with 2111 3600\n",
      "Found it with 2213 2004\n",
      "Found it with 2221 1998\n",
      "Found it with 2221 3300\n",
      "Found it with 2221 3600\n",
      "Found it with 2251 2010\n",
      "Found it with 2341 2940\n",
      "Found it with 2381 1440\n",
      "Found it with 2383 2940\n",
      "Found it with 2521 3000\n",
      "Found it with 2617 1602\n",
      "Found it with 2621 1800\n",
      "Found it with 2711 1500\n",
      "Found it with 2713 3504\n",
      "Found it with 2917 1302\n",
      "Found it with 2953 2670\n",
      "Found it with 2969 3330\n",
      "Found it with 2971 1650\n",
      "Found it with 3011 3000\n",
      "Found it with 3121 3030\n",
      "Found it with 3191 1980\n",
      "Found it with 3203 3000\n",
      "Found it with 3221 1020\n",
      "Found it with 3221 1500\n",
      "Found it with 3221 3000\n",
      "Found it with 3301 1500\n",
      "Found it with 3301 2400\n",
      "Found it with 3323 3000\n",
      "Found it with 3331 3030\n",
      "Found it with 3343 3000\n",
      "Found it with 3371 1980\n",
      "Found it with 3461 2856\n",
      "Found it with 3613 2550\n",
      "Found it with 3701 2100\n",
      "Found it with 3701 2400\n",
      "Found it with 3719 1212\n",
      "Found it with 3733 3000\n",
      "Found it with 3803 1500\n",
      "Found it with 3803 3000\n",
      "Found it with 3821 2700\n",
      "Found it with 3823 1500\n",
      "Found it with 3833 1500\n",
      "Found it with 3833 3000\n"
     ]
    },
    {
     "ename": "KeyboardInterrupt",
     "evalue": "",
     "output_type": "error",
     "traceback": [
      "\u001b[0;31m---------------------------------------------------------------------------\u001b[0m",
      "\u001b[0;31mKeyboardInterrupt\u001b[0m                         Traceback (most recent call last)",
      "\u001b[0;32m<ipython-input-26-73adc81eeae0>\u001b[0m in \u001b[0;36m<module>\u001b[0;34m\u001b[0m\n\u001b[1;32m      1\u001b[0m \u001b[0;32mfor\u001b[0m \u001b[0mi\u001b[0m \u001b[0;32min\u001b[0m \u001b[0mrange\u001b[0m\u001b[0;34m(\u001b[0m\u001b[0;36m1000\u001b[0m\u001b[0;34m,\u001b[0m \u001b[0;36m10000\u001b[0m\u001b[0;34m)\u001b[0m\u001b[0;34m:\u001b[0m\u001b[0;34m\u001b[0m\u001b[0;34m\u001b[0m\u001b[0m\n\u001b[1;32m      2\u001b[0m     \u001b[0;32mfor\u001b[0m \u001b[0mj\u001b[0m \u001b[0;32min\u001b[0m \u001b[0mrange\u001b[0m\u001b[0;34m(\u001b[0m\u001b[0;36m1000\u001b[0m\u001b[0;34m,\u001b[0m \u001b[0;34m(\u001b[0m\u001b[0;36m10000\u001b[0m\u001b[0;34m-\u001b[0m\u001b[0mi\u001b[0m\u001b[0;34m)\u001b[0m\u001b[0;34m//\u001b[0m\u001b[0;36m2\u001b[0m\u001b[0;34m)\u001b[0m\u001b[0;34m:\u001b[0m\u001b[0;34m\u001b[0m\u001b[0;34m\u001b[0m\u001b[0m\n\u001b[0;32m----> 3\u001b[0;31m         \u001b[0;32mif\u001b[0m \u001b[0mis_special\u001b[0m\u001b[0;34m(\u001b[0m\u001b[0mi\u001b[0m\u001b[0;34m,\u001b[0m\u001b[0mj\u001b[0m\u001b[0;34m)\u001b[0m\u001b[0;34m:\u001b[0m\u001b[0;34m\u001b[0m\u001b[0;34m\u001b[0m\u001b[0m\n\u001b[0m\u001b[1;32m      4\u001b[0m             \u001b[0mprint\u001b[0m\u001b[0;34m(\u001b[0m\u001b[0;34m\"Found it with\"\u001b[0m\u001b[0;34m,\u001b[0m \u001b[0mi\u001b[0m\u001b[0;34m,\u001b[0m \u001b[0mj\u001b[0m\u001b[0;34m)\u001b[0m\u001b[0;34m\u001b[0m\u001b[0;34m\u001b[0m\u001b[0m\n",
      "\u001b[0;32m<ipython-input-25-4d8d907c3958>\u001b[0m in \u001b[0;36mis_special\u001b[0;34m(start, increment)\u001b[0m\n\u001b[1;32m     25\u001b[0m \u001b[0;34m\u001b[0m\u001b[0m\n\u001b[1;32m     26\u001b[0m \u001b[0;32mdef\u001b[0m \u001b[0mis_special\u001b[0m\u001b[0;34m(\u001b[0m\u001b[0mstart\u001b[0m\u001b[0;34m,\u001b[0m \u001b[0mincrement\u001b[0m\u001b[0;34m)\u001b[0m\u001b[0;34m:\u001b[0m\u001b[0;34m\u001b[0m\u001b[0;34m\u001b[0m\u001b[0m\n\u001b[0;32m---> 27\u001b[0;31m     \u001b[0mnums\u001b[0m \u001b[0;34m=\u001b[0m \u001b[0;34m[\u001b[0m\u001b[0mstart\u001b[0m\u001b[0;34m,\u001b[0m \u001b[0mstart\u001b[0m \u001b[0;34m+\u001b[0m \u001b[0mincrement\u001b[0m\u001b[0;34m,\u001b[0m \u001b[0mstart\u001b[0m \u001b[0;34m+\u001b[0m \u001b[0;36m2\u001b[0m\u001b[0;34m*\u001b[0m\u001b[0mincrement\u001b[0m\u001b[0;34m]\u001b[0m\u001b[0;34m\u001b[0m\u001b[0;34m\u001b[0m\u001b[0m\n\u001b[0m\u001b[1;32m     28\u001b[0m     \u001b[0mdigits\u001b[0m \u001b[0;34m=\u001b[0m \u001b[0;34m[\u001b[0m\u001b[0mint\u001b[0m\u001b[0;34m(\u001b[0m\u001b[0meach\u001b[0m\u001b[0;34m)\u001b[0m \u001b[0;32mfor\u001b[0m \u001b[0meach\u001b[0m \u001b[0;32min\u001b[0m \u001b[0mstr\u001b[0m\u001b[0;34m(\u001b[0m\u001b[0mstart\u001b[0m\u001b[0;34m)\u001b[0m\u001b[0;34m]\u001b[0m\u001b[0;34m\u001b[0m\u001b[0;34m\u001b[0m\u001b[0m\n\u001b[1;32m     29\u001b[0m \u001b[0;34m\u001b[0m\u001b[0m\n",
      "\u001b[0;31mKeyboardInterrupt\u001b[0m: "
     ]
    }
   ],
   "source": [
    "for i in range(1000, 10000):\n",
    "    for j in range(1000, (10000-i)//2):\n",
    "        if is_special(i,j):\n",
    "            print(\"Found it with\", i, j)"
   ]
  },
  {
   "cell_type": "code",
   "execution_count": null,
   "metadata": {},
   "outputs": [],
   "source": [
    "are"
   ]
  }
 ],
 "metadata": {
  "kernelspec": {
   "display_name": "Python 3",
   "language": "python",
   "name": "python3"
  },
  "language_info": {
   "codemirror_mode": {
    "name": "ipython",
    "version": 3
   },
   "file_extension": ".py",
   "mimetype": "text/x-python",
   "name": "python",
   "nbconvert_exporter": "python",
   "pygments_lexer": "ipython3",
   "version": "3.8.5"
  }
 },
 "nbformat": 4,
 "nbformat_minor": 4
}
