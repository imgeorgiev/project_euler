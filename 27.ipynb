{
 "cells": [
  {
   "cell_type": "markdown",
   "metadata": {},
   "source": [
    "Euler discovered the remarkable quadratic formula:\n",
    "\n",
    "$$ n^2 + n + 41 $$\n",
    "\n",
    "\n",
    "It turns out that the formula will produce 40 primes for the consecutive integer values $0 \\leq n \\leq 39$. However, when $n=40, 40^2 + 40 + 41 = 40(40+1) + 41$ is divisible by 41, and certainly when $n=41, 41^2 + 41 + 41$ is clearly divisible by 41.\n",
    "\n",
    "The incredible formula $n^2 - 79n + 1601$ was discovered, which produces 80 primes for the consecutive values $0 \\leq n \\leq 79$. The product of the coefficients, −79 and 1601, is −126479.\n",
    "\n",
    "Considering quadratics of the form:\n",
    "\n",
    "$ n^2 + an + n $ where $|a| < 1000$ and $|b| \\leq 1000$\n",
    "\n",
    "Find the product of the coefficients,  and , for the quadratic expression that produces the maximum number of primes for consecutive values of $n$, starting with $n=0$."
   ]
  },
  {
   "cell_type": "code",
   "execution_count": 3,
   "metadata": {},
   "outputs": [],
   "source": [
    "def is_prime(num):\n",
    "    if num > 1:\n",
    "        for i in range(2, int(num/2)+1):\n",
    "            if (num % i) == 0:\n",
    "                return False\n",
    "        else:\n",
    "            return True\n",
    "    else:\n",
    "        return False\n",
    "    \n",
    "def f(n,a,b):\n",
    "    return n**2 + a*n + b\n",
    "\n",
    "def consequtive_primes(a,b):\n",
    "    n = 0\n",
    "    while is_prime(f(n, a, b)):\n",
    "        n+=1\n",
    "    return n\n",
    "    "
   ]
  },
  {
   "cell_type": "code",
   "execution_count": 4,
   "metadata": {},
   "outputs": [
    {
     "data": {
      "text/plain": [
       "40"
      ]
     },
     "execution_count": 4,
     "metadata": {},
     "output_type": "execute_result"
    }
   ],
   "source": [
    "# check if the functions above work\n",
    "consequtive_primes(1, 41)"
   ]
  },
  {
   "cell_type": "code",
   "execution_count": 7,
   "metadata": {},
   "outputs": [
    {
     "name": "stdout",
     "output_type": "stream",
     "text": [
      "New most conseq 1 with a=-999 b=2\n",
      "New most conseq 2 with a=-996 b=997\n",
      "New most conseq 3 with a=-499 b=997\n",
      "New most conseq 4 with a=-325 b=977\n",
      "New most conseq 5 with a=-245 b=977\n",
      "New most conseq 6 with a=-197 b=983\n",
      "New most conseq 7 with a=-163 b=983\n",
      "New most conseq 8 with a=-131 b=941\n",
      "New most conseq 9 with a=-121 b=947\n",
      "New most conseq 11 with a=-105 b=967\n",
      "New most conseq 71 with a=-61 b=971\n"
     ]
    }
   ],
   "source": [
    "# Find the most consequtive numbers\n",
    "most_conseq = 0\n",
    "coefs = (0,0)\n",
    "for a in range(-999, 1000):\n",
    "    for b in range(-1000, 1001):\n",
    "        if consequtive_primes(a,b) > most_conseq:\n",
    "            most_conseq = consequtive_primes(a,b)\n",
    "            coefs = (a,b)\n",
    "            print(\"New most conseq {:} with a={:} b={:}\".format(most_conseq, a, b))"
   ]
  },
  {
   "cell_type": "code",
   "execution_count": null,
   "metadata": {},
   "outputs": [],
   "source": [
    "coefs[0] * "
   ]
  }
 ],
 "metadata": {
  "kernelspec": {
   "display_name": "Python 3",
   "language": "python",
   "name": "python3"
  },
  "language_info": {
   "codemirror_mode": {
    "name": "ipython",
    "version": 3
   },
   "file_extension": ".py",
   "mimetype": "text/x-python",
   "name": "python",
   "nbconvert_exporter": "python",
   "pygments_lexer": "ipython3",
   "version": "3.8.5"
  }
 },
 "nbformat": 4,
 "nbformat_minor": 4
}
