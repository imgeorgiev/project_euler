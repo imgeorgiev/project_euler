{
 "cells": [
  {
   "cell_type": "markdown",
   "id": "0f00f2f8",
   "metadata": {},
   "source": [
    "The number, 1406357289, is a 0 to 9 pandigital number because it is made up of each of the digits 0 to 9 in some order, but it also has a rather interesting sub-string divisibility property.\n",
    "\n",
    "Let $d_1$ be the 1st digit, $d_2$ be the 2nd digit, and so on. In this way, we note the following:\n",
    "\n",
    "- $d_2d_3d_4=406$ is divisible by 2\n",
    "- $d_3d_4d_5=063$ is divisible by 3\n",
    "- $d_4d_5d_6=635$ is divisible by 5\n",
    "- $d_5d_6d_7=357$ is divisible by 7\n",
    "- $d_6d_7d_8=572$ is divisible by 11\n",
    "- $d_7d_8d_9=728$ is divisible by 13\n",
    "- $d_8d_9d_{10}=289$ is divisible by 17\n",
    "\n",
    "Find the sum of all 0 to 9 pandigital numbers with this property."
   ]
  },
  {
   "cell_type": "code",
   "execution_count": 41,
   "id": "246919ee",
   "metadata": {},
   "outputs": [
    {
     "name": "stderr",
     "output_type": "stream",
     "text": [
      "100%|██████████| 3628800/3628800 [00:04<00:00, 899926.34it/s] \n"
     ]
    }
   ],
   "source": [
    "from helpers import is_pandigital\n",
    "from tqdm import tqdm\n",
    "import itertools\n",
    "\n",
    "pandigitals = []\n",
    "\n",
    "for n in tqdm(list(itertools.permutations(list(range(0,10))))):\n",
    "    if n[0] != 0:\n",
    "        n = ''.join(map(str, n))\n",
    "        pandigitals.append(n)\n",
    "    "
   ]
  },
  {
   "cell_type": "code",
   "execution_count": 45,
   "id": "e0266091",
   "metadata": {},
   "outputs": [
    {
     "name": "stderr",
     "output_type": "stream",
     "text": [
      "100%|██████████| 1/1 [00:00<00:00, 6204.59it/s]"
     ]
    },
    {
     "name": "stdout",
     "output_type": "stream",
     "text": [
      "Found 1 hits and their sum is 1406357289\n"
     ]
    },
    {
     "name": "stderr",
     "output_type": "stream",
     "text": [
      "\n"
     ]
    }
   ],
   "source": [
    "# now filter out based on our conditions\n",
    "\n",
    "hits = []\n",
    "\n",
    "for n in tqdm(pandigitals):\n",
    "    c1 = int(n[1:4]) % 2 == 0\n",
    "    c2 = int(n[2:5]) % 3 == 0\n",
    "    c3 = int(n[3:6]) % 5 == 0\n",
    "    c4 = int(n[4:7]) % 7 == 0\n",
    "    c5 = int(n[5:8]) % 11 == 0\n",
    "    c6 = int(n[6:9]) % 13 == 0\n",
    "    c7 = int(n[7:10]) % 17 == 0\n",
    "    \n",
    "    if all([c1,c2,c3,c4,c5,c6]):\n",
    "        hits.append(int(n))\n",
    "        \n",
    "print(\"Found {:} hits and their sum is {:}\".format(len(hits), sum(hits)))\n",
    "    "
   ]
  },
  {
   "cell_type": "code",
   "execution_count": 46,
   "id": "42860c8b",
   "metadata": {},
   "outputs": [
    {
     "data": {
      "text/plain": [
       "[0, 1, 2, 3, 4, 5, 6, 7, 8, 9]"
      ]
     },
     "execution_count": 46,
     "metadata": {},
     "output_type": "execute_result"
    }
   ],
   "source": [
    "list(range(0,10))"
   ]
  },
  {
   "cell_type": "code",
   "execution_count": 38,
   "id": "ce2f21bc",
   "metadata": {},
   "outputs": [
    {
     "data": {
      "text/plain": [
       "True"
      ]
     },
     "execution_count": 38,
     "metadata": {},
     "output_type": "execute_result"
    }
   ],
   "source": [
    "pandigitals[0][0] == \"0\""
   ]
  }
 ],
 "metadata": {
  "kernelspec": {
   "display_name": "Python 3",
   "language": "python",
   "name": "python3"
  },
  "language_info": {
   "codemirror_mode": {
    "name": "ipython",
    "version": 3
   },
   "file_extension": ".py",
   "mimetype": "text/x-python",
   "name": "python",
   "nbconvert_exporter": "python",
   "pygments_lexer": "ipython3",
   "version": "3.9.1"
  }
 },
 "nbformat": 4,
 "nbformat_minor": 5
}
