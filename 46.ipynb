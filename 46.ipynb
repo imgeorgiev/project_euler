{
 "cells": [
  {
   "cell_type": "markdown",
   "id": "6196bd6e",
   "metadata": {},
   "source": [
    "It was proposed by Christian Goldbach that every odd composite number can be written as the sum of a prime and twice a square.\n",
    "\n",
    "$9 = 7 + 2×1^2$\n",
    "\n",
    "$15 = 7 + 2×2^2$\n",
    "\n",
    "$21 = 3 + 2×3^2$\n",
    "\n",
    "$25 = 7 + 2×3^2$\n",
    "\n",
    "$27 = 19 + 2×2^2$\n",
    "\n",
    "$33 = 31 + 2×1^2$\n",
    "\n",
    "It turns out that the conjecture was false.\n",
    "\n",
    "What is the smallest odd composite that cannot be written as the sum of a prime and twice a square?"
   ]
  },
  {
   "cell_type": "code",
   "execution_count": 31,
   "id": "bb269947",
   "metadata": {},
   "outputs": [
    {
     "data": {
      "text/plain": [
       "True"
      ]
     },
     "execution_count": 31,
     "metadata": {},
     "output_type": "execute_result"
    }
   ],
   "source": [
    "import math\n",
    "\n",
    "def cond(n):\n",
    "    primes = filter(is_prime, range(1,n))\n",
    "    for each in primes:\n",
    "        if math.sqrt((n - each)/2) % 1.0 == 0.0:\n",
    "            return True\n",
    "    return False\n",
    "\n",
    "cond(33)"
   ]
  },
  {
   "cell_type": "code",
   "execution_count": 32,
   "id": "5c5ed74d",
   "metadata": {},
   "outputs": [
    {
     "name": "stdout",
     "output_type": "stream",
     "text": [
      "found out guy 5777\n"
     ]
    }
   ],
   "source": [
    "from helpers import is_prime\n",
    "n = 2\n",
    "while True:\n",
    "    if not is_prime(n):\n",
    "        if n % 2 == 1:\n",
    "            if not cond(n):\n",
    "                print(\"found out guy\", n)\n",
    "                break\n",
    "    n += 1"
   ]
  }
 ],
 "metadata": {
  "kernelspec": {
   "display_name": "Python 3",
   "language": "python",
   "name": "python3"
  },
  "language_info": {
   "codemirror_mode": {
    "name": "ipython",
    "version": 3
   },
   "file_extension": ".py",
   "mimetype": "text/x-python",
   "name": "python",
   "nbconvert_exporter": "python",
   "pygments_lexer": "ipython3",
   "version": "3.9.1"
  }
 },
 "nbformat": 4,
 "nbformat_minor": 5
}
