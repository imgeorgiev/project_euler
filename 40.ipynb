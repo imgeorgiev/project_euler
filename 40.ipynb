{
 "cells": [
  {
   "cell_type": "markdown",
   "metadata": {},
   "source": [
    "An irrational decimal fraction is created by concatenating the positive integers:\n",
    "\n",
    "$0.12345678910\\textbf{1}112131415161718192021...$\n",
    "\n",
    "It can be seen that the 12th digit of the fractional part is 1.\n",
    "\n",
    "If $d_n$ represents the nth digit of the fractional part, find the value of the following expression.\n",
    "\n",
    "$$ d_1 × d_{10} × d_{100} × d_{1000} × d_{10000} × d_{100000} × d_{1000000} $$"
   ]
  },
  {
   "cell_type": "code",
   "execution_count": 3,
   "metadata": {},
   "outputs": [
    {
     "name": "stdout",
     "output_type": "stream",
     "text": [
      "210\n"
     ]
    }
   ],
   "source": [
    "limit = 1000000\n",
    "string = \"\"\n",
    "i = 1\n",
    "while len(string) < limit:\n",
    "    string += str(i)\n",
    "    i += 1\n",
    "\n",
    "targets = [1, 10, 100, 1000, 10000, 100000, 1000000]\n",
    "result = 1\n",
    "for target in targets:\n",
    "    result *= int(string[target-1])\n",
    "print(result)"
   ]
  },
  {
   "cell_type": "code",
   "execution_count": null,
   "metadata": {},
   "outputs": [],
   "source": []
  }
 ],
 "metadata": {
  "kernelspec": {
   "display_name": "Python 3",
   "language": "python",
   "name": "python3"
  },
  "language_info": {
   "codemirror_mode": {
    "name": "ipython",
    "version": 3
   },
   "file_extension": ".py",
   "mimetype": "text/x-python",
   "name": "python",
   "nbconvert_exporter": "python",
   "pygments_lexer": "ipython3",
   "version": "3.8.5"
  }
 },
 "nbformat": 4,
 "nbformat_minor": 4
}
