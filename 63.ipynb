{
 "cells": [
  {
   "cell_type": "markdown",
   "metadata": {},
   "source": [
    "The 5-digit number, $16807=7^5$, is also a fifth power. Similarly, the 9-digit number, $134217728=8^9$, is a ninth power.\n",
    "\n",
    "How many n-digit positive integers exist which are also an nth power?\n",
    "\n",
    "Formulate mathematically as:\n",
    "\n",
    "$ x = a^n $\n",
    "\n",
    "Since n == digits(x) => $ 1 < a < 10$"
   ]
  },
  {
   "cell_type": "code",
   "execution_count": 31,
   "metadata": {},
   "outputs": [
    {
     "data": {
      "text/plain": [
       "43"
      ]
     },
     "execution_count": 31,
     "metadata": {},
     "output_type": "execute_result"
    }
   ],
   "source": [
    "from helpers import num_to_digit_list\n",
    "a = 9\n",
    "n = 958\n",
    "n - len(str(a ** n))"
   ]
  },
  {
   "cell_type": "code",
   "execution_count": 23,
   "metadata": {},
   "outputs": [
    {
     "name": "stdout",
     "output_type": "stream",
     "text": [
      "583 ns ± 6.64 ns per loop (mean ± std. dev. of 7 runs, 1000000 loops each)\n"
     ]
    }
   ],
   "source": [
    "# This is the fastest way to see if we have the right amount of digits\n",
    "%%timeit\n",
    "((a ** n) // 10**(n-1)) > 0"
   ]
  },
  {
   "cell_type": "code",
   "execution_count": 17,
   "metadata": {},
   "outputs": [
    {
     "name": "stdout",
     "output_type": "stream",
     "text": [
      "1.13 µs ± 27.7 ns per loop (mean ± std. dev. of 7 runs, 1000000 loops each)\n"
     ]
    }
   ],
   "source": [
    "%%timeit\n",
    "len(str(a ** n))"
   ]
  },
  {
   "cell_type": "code",
   "execution_count": 18,
   "metadata": {},
   "outputs": [
    {
     "name": "stdout",
     "output_type": "stream",
     "text": [
      "27.4 µs ± 506 ns per loop (mean ± std. dev. of 7 runs, 10000 loops each)\n"
     ]
    }
   ],
   "source": [
    "%%timeit\n",
    "len(num_to_digit_list(a ** n))"
   ]
  },
  {
   "cell_type": "code",
   "execution_count": 34,
   "metadata": {},
   "outputs": [
    {
     "name": "stderr",
     "output_type": "stream",
     "text": [
      "100%|██████████| 999/999 [00:00<00:00, 26944.31it/s]"
     ]
    },
    {
     "name": "stdout",
     "output_type": "stream",
     "text": [
      "Got a hit 2^1 = 2\n",
      "Got a hit 3^1 = 3\n",
      "Got a hit 4^1 = 4\n",
      "Got a hit 5^1 = 5\n",
      "Got a hit 6^1 = 6\n",
      "Got a hit 7^1 = 7\n",
      "Got a hit 8^1 = 8\n",
      "Got a hit 9^1 = 9\n",
      "Got a hit 4^2 = 16\n",
      "Got a hit 5^2 = 25\n",
      "Got a hit 6^2 = 36\n",
      "Got a hit 7^2 = 49\n",
      "Got a hit 8^2 = 64\n",
      "Got a hit 9^2 = 81\n",
      "Got a hit 5^3 = 125\n",
      "Got a hit 6^3 = 216\n",
      "Got a hit 7^3 = 343\n",
      "Got a hit 8^3 = 512\n",
      "Got a hit 9^3 = 729\n",
      "Got a hit 6^4 = 1296\n",
      "Got a hit 7^4 = 2401\n",
      "Got a hit 8^4 = 4096\n",
      "Got a hit 9^4 = 6561\n",
      "Got a hit 7^5 = 16807\n",
      "Got a hit 8^5 = 32768\n",
      "Got a hit 9^5 = 59049\n",
      "Got a hit 7^6 = 117649\n",
      "Got a hit 8^6 = 262144\n",
      "Got a hit 9^6 = 531441\n",
      "Got a hit 8^7 = 2097152\n",
      "Got a hit 9^7 = 4782969\n",
      "Got a hit 8^8 = 16777216\n",
      "Got a hit 9^8 = 43046721\n",
      "Got a hit 8^9 = 134217728\n",
      "Got a hit 9^9 = 387420489\n",
      "Got a hit 8^10 = 1073741824\n",
      "Got a hit 9^10 = 3486784401\n",
      "Got a hit 9^11 = 31381059609\n",
      "Got a hit 9^12 = 282429536481\n",
      "Got a hit 9^13 = 2541865828329\n",
      "Got a hit 9^14 = 22876792454961\n",
      "Got a hit 9^15 = 205891132094649\n",
      "Got a hit 9^16 = 1853020188851841\n",
      "Got a hit 9^17 = 16677181699666569\n",
      "Got a hit 9^18 = 150094635296999121\n",
      "Got a hit 9^19 = 1350851717672992089\n",
      "Got a hit 9^20 = 12157665459056928801\n",
      "Got a hit 9^21 = 109418989131512359209\n",
      "Found 48 hits\n"
     ]
    },
    {
     "name": "stderr",
     "output_type": "stream",
     "text": [
      "\n"
     ]
    }
   ],
   "source": [
    "from tqdm import tqdm\n",
    "count = 0\n",
    "for n in tqdm(range(1, 1000)):\n",
    "    for a in range(2,10):\n",
    "        test = ((a ** n) // 10**(n-1))\n",
    "        if test > 0 and test < 10:\n",
    "            print(\"Got a hit {:}^{:} = {:}\".format(a, n, a ** n))\n",
    "            count += 1\n",
    "            \n",
    "print(\"Found {:} hits\".format(count))\n",
    "            "
   ]
  },
  {
   "cell_type": "code",
   "execution_count": null,
   "metadata": {},
   "outputs": [],
   "source": []
  }
 ],
 "metadata": {
  "kernelspec": {
   "display_name": "Python 3",
   "language": "python",
   "name": "python3"
  },
  "language_info": {
   "codemirror_mode": {
    "name": "ipython",
    "version": 3
   },
   "file_extension": ".py",
   "mimetype": "text/x-python",
   "name": "python",
   "nbconvert_exporter": "python",
   "pygments_lexer": "ipython3",
   "version": "3.8.5"
  }
 },
 "nbformat": 4,
 "nbformat_minor": 4
}
