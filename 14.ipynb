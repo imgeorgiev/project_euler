{
 "cells": [
  {
   "cell_type": "markdown",
   "metadata": {},
   "source": [
    "The following iterative sequence is defined for the set of positive integers:\n",
    "\n",
    "n → n/2 (n is even)\n",
    "n → 3n + 1 (n is odd)\n",
    "\n",
    "Using the rule above and starting with 13, we generate the following sequence:\n",
    "\n",
    "13 → 40 → 20 → 10 → 5 → 16 → 8 → 4 → 2 → 1\n",
    "It can be seen that this sequence (starting at 13 and finishing at 1) contains 10 terms. Although it has not been proved yet (Collatz Problem), it is thought that all starting numbers finish at 1.\n",
    "\n",
    "Which starting number, under one million, produces the longest chain?\n",
    "\n",
    "NOTE: Once the chain starts the terms are allowed to go above one million."
   ]
  },
  {
   "cell_type": "code",
   "execution_count": 3,
   "metadata": {},
   "outputs": [],
   "source": [
    "def produce_sequence(start):\n",
    "    sequence = []\n",
    "    num = start\n",
    "    while num != 1:\n",
    "        sequence.append(num)\n",
    "        if num%2 == 0:\n",
    "            num = int(num/2)\n",
    "        else:\n",
    "            num = 3*num + 1\n",
    "    return sequence"
   ]
  },
  {
   "cell_type": "code",
   "execution_count": 4,
   "metadata": {},
   "outputs": [
    {
     "data": {
      "text/plain": [
       "[13, 40, 20, 10, 5, 16, 8, 4, 2]"
      ]
     },
     "execution_count": 4,
     "metadata": {},
     "output_type": "execute_result"
    }
   ],
   "source": [
    "produce_sequence(13)"
   ]
  },
  {
   "cell_type": "code",
   "execution_count": 8,
   "metadata": {},
   "outputs": [
    {
     "name": "stdout",
     "output_type": "stream",
     "text": [
      "Found new longest sequence starting at 2 with length 1\n",
      "Found new longest sequence starting at 3 with length 7\n",
      "Found new longest sequence starting at 6 with length 8\n",
      "Found new longest sequence starting at 7 with length 16\n",
      "Found new longest sequence starting at 9 with length 19\n",
      "Found new longest sequence starting at 18 with length 20\n",
      "Found new longest sequence starting at 25 with length 23\n",
      "Found new longest sequence starting at 27 with length 111\n",
      "Found new longest sequence starting at 54 with length 112\n",
      "Found new longest sequence starting at 73 with length 115\n",
      "Found new longest sequence starting at 97 with length 118\n",
      "Found new longest sequence starting at 129 with length 121\n",
      "Found new longest sequence starting at 171 with length 124\n",
      "Found new longest sequence starting at 231 with length 127\n",
      "Found new longest sequence starting at 313 with length 130\n",
      "Found new longest sequence starting at 327 with length 143\n",
      "Found new longest sequence starting at 649 with length 144\n",
      "Found new longest sequence starting at 703 with length 170\n",
      "Found new longest sequence starting at 871 with length 178\n",
      "Found new longest sequence starting at 1161 with length 181\n",
      "Found new longest sequence starting at 2223 with length 182\n",
      "Found new longest sequence starting at 2463 with length 208\n",
      "Found new longest sequence starting at 2919 with length 216\n",
      "Found new longest sequence starting at 3711 with length 237\n",
      "Found new longest sequence starting at 6171 with length 261\n",
      "Found new longest sequence starting at 10971 with length 267\n",
      "Found new longest sequence starting at 13255 with length 275\n",
      "Found new longest sequence starting at 17647 with length 278\n",
      "Found new longest sequence starting at 23529 with length 281\n",
      "Found new longest sequence starting at 26623 with length 307\n",
      "Found new longest sequence starting at 34239 with length 310\n",
      "Found new longest sequence starting at 35655 with length 323\n",
      "Found new longest sequence starting at 52527 with length 339\n",
      "Found new longest sequence starting at 77031 with length 350\n",
      "Found new longest sequence starting at 106239 with length 353\n",
      "Found new longest sequence starting at 142587 with length 374\n",
      "Found new longest sequence starting at 156159 with length 382\n",
      "Found new longest sequence starting at 216367 with length 385\n",
      "Found new longest sequence starting at 230631 with length 442\n",
      "Found new longest sequence starting at 410011 with length 448\n",
      "Found new longest sequence starting at 511935 with length 469\n",
      "Found new longest sequence starting at 626331 with length 508\n",
      "Found new longest sequence starting at 837799 with length 524\n"
     ]
    }
   ],
   "source": [
    "longest_sequence = []\n",
    "for i in range(2, 1000000):\n",
    "    new_sequence = produce_sequence(i)\n",
    "    if len(new_sequence) > len(longest_sequence):\n",
    "        print(\"Found new longest sequence starting at\", i, \"with length\", len(new_sequence))\n",
    "        longest_sequence = new_sequence\n",
    "\n",
    "print(\"Longest sequence is of length {} and starts with {}\".format(len(longest_sequence), longest_sequence[0]))"
   ]
  },
  {
   "cell_type": "code",
   "execution_count": 10,
   "metadata": {},
   "outputs": [
    {
     "name": "stdout",
     "output_type": "stream",
     "text": [
      "Longest sequence is of length 524 and starts with 837799\n"
     ]
    }
   ],
   "source": []
  },
  {
   "cell_type": "code",
   "execution_count": null,
   "metadata": {},
   "outputs": [],
   "source": []
  }
 ],
 "metadata": {
  "kernelspec": {
   "display_name": "Python 3",
   "language": "python",
   "name": "python3"
  },
  "language_info": {
   "codemirror_mode": {
    "name": "ipython",
    "version": 3
   },
   "file_extension": ".py",
   "mimetype": "text/x-python",
   "name": "python",
   "nbconvert_exporter": "python",
   "pygments_lexer": "ipython3",
   "version": "3.8.5"
  }
 },
 "nbformat": 4,
 "nbformat_minor": 4
}
