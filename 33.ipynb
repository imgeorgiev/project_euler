{
 "cells": [
  {
   "cell_type": "markdown",
   "metadata": {},
   "source": [
    "The fraction $\\dfrac{49}{98}$ is a curious fraction, as an inexperienced mathematician in attempting to simplify it may incorrectly believe that $\\dfrac{49}{98} = \\dfrac{4}{8}$, which is correct, is obtained by cancelling the 9s.\n",
    "\n",
    "We shall consider fractions like, $\\dfrac{30}{50} = \\dfrac{3}{5}$, to be trivial examples.\n",
    "\n",
    "There are exactly four non-trivial examples of this type of fraction, less than one in value, and containing two digits in the numerator and denominator.\n",
    "\n",
    "If the product of these four fractions is given in its lowest common terms, find the value of the denominator."
   ]
  },
  {
   "cell_type": "code",
   "execution_count": 17,
   "metadata": {},
   "outputs": [
    {
     "name": "stdout",
     "output_type": "stream",
     "text": [
      "Got hit (16, 64)\n",
      "Got hit (26, 65)\n",
      "Got hit (19, 95)\n",
      "Got hit (49, 98)\n"
     ]
    }
   ],
   "source": [
    "def eexcept(lst, e):\n",
    "    new_list = []\n",
    "    done = False\n",
    "    for each in lst:\n",
    "        if e != each or done:\n",
    "            new_list.append(each)\n",
    "        else:\n",
    "            done = True\n",
    "    return new_list[0]\n",
    "\n",
    "def curious(num, denom):\n",
    "    div = num/denom\n",
    "    snum = list(str(num))\n",
    "    sdenom = list(str(denom))\n",
    "    \n",
    "    # special exclusion case\n",
    "    if \"0\" in snum or \"0\" in sdenom:\n",
    "        return False\n",
    "    \n",
    "    if snum[0] in sdenom and snum[1] in sdenom:\n",
    "        if snum[0] == snum[1]: # eg 11/41\n",
    "            if int(snum[0])/int(eexcept(sdenom,snum[0])) == div:\n",
    "                return True\n",
    "            else:\n",
    "                return False\n",
    "        else: # eg 14/41\n",
    "            # we need to try both versions\n",
    "            success = False\n",
    "            if int(snum[0])/int(eexcept(sdenom,snum[1])) == div:\n",
    "                success = True\n",
    "            if int(snum[1])/int(eexcept(sdenom,snum[0])) == div:\n",
    "                success = True\n",
    "            return success\n",
    "    elif snum[0] in sdenom: # eg. 14/91\n",
    "        if int(snum[1])/int(eexcept(sdenom,snum[0])) == div:\n",
    "            return True\n",
    "        else:\n",
    "            return False\n",
    "    elif snum[1] in sdenom: # eg. 14/94\n",
    "        \n",
    "        if int(snum[0])/int(eexcept(sdenom,snum[1])) == div:\n",
    "            return True\n",
    "        else:\n",
    "            return False\n",
    "    else:\n",
    "        return False\n",
    "            \n",
    "\n",
    "limits = (10,99)\n",
    "hits = []\n",
    " \n",
    "for i in range(limits[0], limits[1]):\n",
    "    for j in range(limits[0], i):\n",
    "        if curious(j,i):\n",
    "            print(\"Got hit\", (j,i))\n",
    "            hits.append((j,i))"
   ]
  },
  {
   "cell_type": "code",
   "execution_count": 18,
   "metadata": {},
   "outputs": [
    {
     "data": {
      "text/plain": [
       "800"
      ]
     },
     "execution_count": 18,
     "metadata": {},
     "output_type": "execute_result"
    }
   ],
   "source": [
    "1 * 2 * 1 * 4 / 4 * 5 * 5 * 8"
   ]
  },
  {
   "cell_type": "code",
   "execution_count": null,
   "metadata": {},
   "outputs": [],
   "source": [
    "1 * 2 * 1 / 5 * 5 * 8"
   ]
  },
  {
   "cell_type": "code",
   "execution_count": null,
   "metadata": {},
   "outputs": [],
   "source": [
    "1 * 1 * 1 / 5 * 5 * 4"
   ]
  },
  {
   "cell_type": "code",
   "execution_count": 20,
   "metadata": {},
   "outputs": [
    {
     "data": {
      "text/plain": [
       "100"
      ]
     },
     "execution_count": 20,
     "metadata": {},
     "output_type": "execute_result"
    }
   ],
   "source": [
    "5 * 5 * 4"
   ]
  },
  {
   "cell_type": "code",
   "execution_count": 10,
   "metadata": {},
   "outputs": [],
   "source": [
    "l = list(str(41))"
   ]
  },
  {
   "cell_type": "code",
   "execution_count": 11,
   "metadata": {},
   "outputs": [
    {
     "ename": "TypeError",
     "evalue": "unsupported operand type(s) for -: 'list' and 'list'",
     "output_type": "error",
     "traceback": [
      "\u001b[0;31m---------------------------------------------------------------------------\u001b[0m",
      "\u001b[0;31mTypeError\u001b[0m                                 Traceback (most recent call last)",
      "\u001b[0;32m<ipython-input-11-a8f23cb03114>\u001b[0m in \u001b[0;36m<module>\u001b[0;34m\u001b[0m\n\u001b[0;32m----> 1\u001b[0;31m \u001b[0;34m[\u001b[0m\u001b[0;36m1\u001b[0m\u001b[0;34m,\u001b[0m\u001b[0;36m2\u001b[0m\u001b[0;34m,\u001b[0m\u001b[0;36m3\u001b[0m\u001b[0;34m]\u001b[0m \u001b[0;34m-\u001b[0m \u001b[0;34m[\u001b[0m\u001b[0;36m1\u001b[0m\u001b[0;34m]\u001b[0m\u001b[0;34m\u001b[0m\u001b[0;34m\u001b[0m\u001b[0m\n\u001b[0m",
      "\u001b[0;31mTypeError\u001b[0m: unsupported operand type(s) for -: 'list' and 'list'"
     ]
    }
   ],
   "source": [
    "[1,2,3]"
   ]
  }
 ],
 "metadata": {
  "kernelspec": {
   "display_name": "Python 3",
   "language": "python",
   "name": "python3"
  },
  "language_info": {
   "codemirror_mode": {
    "name": "ipython",
    "version": 3
   },
   "file_extension": ".py",
   "mimetype": "text/x-python",
   "name": "python",
   "nbconvert_exporter": "python",
   "pygments_lexer": "ipython3",
   "version": "3.8.5"
  }
 },
 "nbformat": 4,
 "nbformat_minor": 4
}
