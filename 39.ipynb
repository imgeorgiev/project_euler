{
 "cells": [
  {
   "cell_type": "markdown",
   "id": "86200002",
   "metadata": {},
   "source": [
    "If p is the perimeter of a right angle triangle with integral length sides, {a,b,c}, there are exactly three solutions for p = 120.\n",
    "\n",
    "{20,48,52}, {24,45,51}, {30,40,50}\n",
    "\n",
    "For which value of p ≤ 1000, is the number of solutions maximised?"
   ]
  },
  {
   "cell_type": "markdown",
   "id": "5528f1e5",
   "metadata": {},
   "source": [
    "Maths:\n",
    "\n",
    "$ P = a + b + \\sqrt{a^2 + b^2} $\n",
    "\n",
    "$ P = a + b + c $\n",
    "\n",
    "if a 0 .. 1000\n",
    "\n",
    "then $ P^2 = a^2 + 2ab + b^2  + 2(a+b)\\sqrt{a^2 + b^2} + a^2 + b^2$"
   ]
  },
  {
   "cell_type": "code",
   "execution_count": 11,
   "id": "037b2f9b",
   "metadata": {},
   "outputs": [
    {
     "name": "stderr",
     "output_type": "stream",
     "text": [
      "100%|██████████| 991/991 [02:43<00:00,  6.05it/s] \n"
     ]
    }
   ],
   "source": [
    "from tqdm import tqdm\n",
    "from math import sqrt\n",
    "\n",
    "solutions = {}\n",
    "\n",
    "for p in tqdm(range(10, 1001)):\n",
    "    for a in range(1, p+1):\n",
    "        for b in range(1, p+1):\n",
    "            if a + b + sqrt(a**2 + b**2) == p:\n",
    "                if p in solutions:\n",
    "                    solutions[p].append((a,b))\n",
    "                else:\n",
    "                    solutions[p] = [(a,b)]"
   ]
  },
  {
   "cell_type": "code",
   "execution_count": 14,
   "id": "865ce361",
   "metadata": {},
   "outputs": [
    {
     "name": "stdout",
     "output_type": "stream",
     "text": [
      "New max with key 12\n",
      "New max with key 24\n",
      "New max with key 30\n",
      "New max with key 36\n",
      "New max with key 40\n",
      "New max with key 48\n",
      "New max with key 56\n",
      "New max with key 60\n",
      "New max with key 84\n",
      "New max with key 90\n",
      "New max with key 120\n",
      "New max with key 168\n",
      "New max with key 180\n",
      "New max with key 240\n",
      "New max with key 360\n",
      "New max with key 420\n",
      "New max with key 660\n",
      "New max with key 720\n",
      "New max with key 840\n"
     ]
    }
   ],
   "source": [
    "max_solutions = 0\n",
    "for key in solutions:\n",
    "    if len(solutions[key]) >= max_solutions:\n",
    "        print(\"New max with key\", key)\n",
    "        max_solutions = len(solutions[key])"
   ]
  }
 ],
 "metadata": {
  "kernelspec": {
   "display_name": "Python 3",
   "language": "python",
   "name": "python3"
  },
  "language_info": {
   "codemirror_mode": {
    "name": "ipython",
    "version": 3
   },
   "file_extension": ".py",
   "mimetype": "text/x-python",
   "name": "python",
   "nbconvert_exporter": "python",
   "pygments_lexer": "ipython3",
   "version": "3.9.1"
  }
 },
 "nbformat": 4,
 "nbformat_minor": 5
}
