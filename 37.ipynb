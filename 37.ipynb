{
 "cells": [
  {
   "cell_type": "markdown",
   "id": "7beaf1bb",
   "metadata": {},
   "source": [
    "# Truncatable primes\n",
    "\n",
    "The number 3797 has an interesting property. Being prime itself, it is possible to continuously remove digits from left to right, and remain prime at each stage: 3797, 797, 97, and 7. Similarly we can work from right to left: 3797, 379, 37, and 3.\n",
    "\n",
    "Find the sum of the only eleven primes that are both truncatable from left to right and right to left.\n",
    "\n",
    "NOTE: 2, 3, 5, and 7 are not considered to be truncatable primes."
   ]
  },
  {
   "cell_type": "code",
   "execution_count": null,
   "id": "66361b4e",
   "metadata": {},
   "outputs": [
    {
     "name": "stdout",
     "output_type": "stream",
     "text": [
      "Got a hit 23\n",
      "Got a hit 37\n",
      "Got a hit 53\n",
      "Got a hit 73\n",
      "Got a hit 313\n",
      "Got a hit 317\n",
      "Got a hit 373\n",
      "Got a hit 797\n",
      "Got a hit 3137\n",
      "Got a hit 3797\n",
      "Got a hit 739397\n"
     ]
    }
   ],
   "source": [
    "from helpers import is_prime\n",
    "\n",
    "def isPrime(n):\n",
    "    if n in {2, 3, 5, 7}:\n",
    "        return True\n",
    "    if n < 2 or n%2 == 0:\n",
    "        return False\n",
    "    if n%3 == 0 or n%5 == 0:\n",
    "        return False\n",
    "    r = int(n**0.5)\n",
    "    f = 5\n",
    "    while f <= r:\n",
    "        if n%f == 0 or n%(f+2) == 0:\n",
    "            return False\n",
    "        f += 6\n",
    "    return True\n",
    "\n",
    "def is_trunc_prime(num):\n",
    "    if not isPrime(num):\n",
    "        return False\n",
    "    \n",
    "    for i in range(1, len(str(num))):\n",
    "        if not isPrime(int(str(num)[i:])):\n",
    "            return False\n",
    "        if not isPrime(int(str(num)[:-i])):\n",
    "            return False\n",
    "    \n",
    "    # if we haven't failed so far then it must be a correct prime\n",
    "    return True\n",
    "\n",
    "hits = []\n",
    "n = 11\n",
    "while len(hits) < 100:\n",
    "    if is_trunc_prime(n):\n",
    "        print(\"Got a hit\", n)\n",
    "        hits.append(n)\n",
    "    n += 1"
   ]
  },
  {
   "cell_type": "code",
   "execution_count": 32,
   "id": "228a063b",
   "metadata": {},
   "outputs": [
    {
     "data": {
      "text/plain": [
       "331"
      ]
     },
     "execution_count": 32,
     "metadata": {},
     "output_type": "execute_result"
    }
   ],
   "source": [
    "num = 7331\n",
    "int(str(num)[1:])"
   ]
  },
  {
   "cell_type": "code",
   "execution_count": 28,
   "id": "ddcd6c11",
   "metadata": {},
   "outputs": [
    {
     "name": "stdout",
     "output_type": "stream",
     "text": [
      "0\n",
      "1\n",
      "2\n",
      "3\n"
     ]
    }
   ],
   "source": [
    "for i in range(len(str(num))):\n",
    "    print(i)"
   ]
  },
  {
   "cell_type": "code",
   "execution_count": 21,
   "id": "bb7c1a12",
   "metadata": {},
   "outputs": [
    {
     "name": "stdout",
     "output_type": "stream",
     "text": [
      "1 11\n",
      "2 24\n",
      "3 41\n",
      "4 64\n",
      "5 95\n",
      "6 132\n",
      "7 185\n",
      "8 256\n",
      "9 329\n",
      "10 442\n",
      "11 573\n",
      "12 710\n",
      "13 883\n",
      "14 1080\n",
      "15 1391\n",
      "16 1704\n",
      "17 2021\n",
      "18 2394\n",
      "19 3191\n",
      "20 4564\n",
      "21 6561\n",
      "22 9698\n",
      "23 13495\n",
      "24 20826\n",
      "25 94157\n",
      "26 833554\n"
     ]
    }
   ],
   "source": [
    "for i in range(1, len(hits)+1):\n",
    "    print(i, sum(hits[:i]))"
   ]
  },
  {
   "cell_type": "code",
   "execution_count": null,
   "id": "84516354",
   "metadata": {},
   "outputs": [],
   "source": [
    "748317"
   ]
  },
  {
   "cell_type": "code",
   "execution_count": 19,
   "id": "9081abdd",
   "metadata": {},
   "outputs": [
    {
     "data": {
      "text/plain": [
       "833554"
      ]
     },
     "execution_count": 19,
     "metadata": {},
     "output_type": "execute_result"
    }
   ],
   "source": [
    "sum(hits)"
   ]
  },
  {
   "cell_type": "code",
   "execution_count": 20,
   "id": "03a8ce26",
   "metadata": {},
   "outputs": [
    {
     "data": {
      "text/plain": [
       "26"
      ]
     },
     "execution_count": 20,
     "metadata": {},
     "output_type": "execute_result"
    }
   ],
   "source": [
    "len(hits)"
   ]
  }
 ],
 "metadata": {
  "kernelspec": {
   "display_name": "Python 3",
   "language": "python",
   "name": "python3"
  },
  "language_info": {
   "codemirror_mode": {
    "name": "ipython",
    "version": 3
   },
   "file_extension": ".py",
   "mimetype": "text/x-python",
   "name": "python",
   "nbconvert_exporter": "python",
   "pygments_lexer": "ipython3",
   "version": "3.9.1"
  }
 },
 "nbformat": 4,
 "nbformat_minor": 5
}
