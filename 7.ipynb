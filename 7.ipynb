{
 "cells": [
  {
   "cell_type": "markdown",
   "metadata": {},
   "source": [
    "By listing the first six prime numbers: 2, 3, 5, 7, 11, and 13, we can see that the 6th prime is 13.\n",
    "\n",
    "What is the 10 001st prime number?"
   ]
  },
  {
   "cell_type": "code",
   "execution_count": 1,
   "metadata": {},
   "outputs": [],
   "source": [
    "import numpy as np\n"
   ]
  },
  {
   "cell_type": "code",
   "execution_count": 13,
   "metadata": {},
   "outputs": [
    {
     "name": "stdout",
     "output_type": "stream",
     "text": [
      "100001st prime number is 104743\n"
     ]
    }
   ],
   "source": [
    "prime_nums = []\n",
    "not_prime = []\n",
    "\n",
    "def is_prime(n):\n",
    "    for i in range(2, int(np.sqrt(n))+1):\n",
    "        if n%i == 0:\n",
    "            return False\n",
    "    return True\n",
    "\n",
    "max_range = 10001\n",
    "prime_multiplier = int(np.sqrt(1000000))\n",
    "    \n",
    "\n",
    "num = 2\n",
    "while len(prime_nums) < max_range:\n",
    "    if num not in not_prime:\n",
    "        if is_prime(num):\n",
    "            prime_nums.append(num)\n",
    "            not_prime.append(list(num * np.arange(1,prime_multiplier)))\n",
    "        else:\n",
    "            not_prime.append(num)\n",
    "            \n",
    "    num += 1\n",
    "    \n",
    "print(\"100001st prime number is\", prime_nums[-1])\n",
    "    "
   ]
  },
  {
   "cell_type": "code",
   "execution_count": 14,
   "metadata": {},
   "outputs": [
    {
     "name": "stdout",
     "output_type": "stream",
     "text": [
      "104743\n"
     ]
    }
   ],
   "source": [
    "def is_prime(n):\n",
    "    nums_to_check = range(2, int(n**.5) + 1)\n",
    "    for i in nums_to_check:\n",
    "        if n % i == 0:\n",
    "            return False\n",
    "    return True\n",
    "\n",
    "def prime_at_index(idx):\n",
    "    n_primes = 1\n",
    "    n = 2\n",
    "    while n_primes < idx:\n",
    "        n+=1\n",
    "        if is_prime(n):\n",
    "            n_primes += 1\n",
    "    return n\n",
    "\n",
    "print(prime_at_index(10001))"
   ]
  }
 ],
 "metadata": {
  "kernelspec": {
   "display_name": "Python 3",
   "language": "python",
   "name": "python3"
  },
  "language_info": {
   "codemirror_mode": {
    "name": "ipython",
    "version": 3
   },
   "file_extension": ".py",
   "mimetype": "text/x-python",
   "name": "python",
   "nbconvert_exporter": "python",
   "pygments_lexer": "ipython3",
   "version": "3.8.5"
  }
 },
 "nbformat": 4,
 "nbformat_minor": 4
}
