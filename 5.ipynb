{
 "cells": [
  {
   "cell_type": "code",
   "execution_count": 7,
   "metadata": {},
   "outputs": [],
   "source": [
    "import numpy as np"
   ]
  },
  {
   "cell_type": "code",
   "execution_count": 41,
   "metadata": {},
   "outputs": [],
   "source": [
    "divisors = np.array(list(range(2,21)))\n",
    "start_num = 20"
   ]
  },
  {
   "cell_type": "code",
   "execution_count": 43,
   "metadata": {},
   "outputs": [
    {
     "name": "stdout",
     "output_type": "stream",
     "text": [
      "Found it! 1396755360\n",
      "Pruned succesfully by 6\n",
      "Finished pruning\n",
      "Final result 232792560.0\n"
     ]
    }
   ],
   "source": [
    "num = start_num\n",
    "\n",
    "# First find a number that is divisible by all of them\n",
    "while True:\n",
    "    evl = num % divisors == 0\n",
    "    if np.all(evl):\n",
    "        print(\"Found it!\", num)\n",
    "        break\n",
    "    else:\n",
    "        num *= divisors[~evl][0]\n",
    "\n",
    "# Now prune number so that it is smaller but still divisible\n",
    "while True:\n",
    "    pruned = False\n",
    "    for each in divisors[::-1]:\n",
    "        if np.all((num/each % divisors) == 0):\n",
    "            print(\"Pruned succesfully by\", each)\n",
    "            num /= each\n",
    "            pruned = True\n",
    "    \n",
    "    if not pruned:\n",
    "        print(\"Finished pruning\")\n",
    "        break\n",
    "\n",
    "print(\"Final result\", num)"
   ]
  }
 ],
 "metadata": {
  "kernelspec": {
   "display_name": "Python 3",
   "language": "python",
   "name": "python3"
  },
  "language_info": {
   "codemirror_mode": {
    "name": "ipython",
    "version": 3
   },
   "file_extension": ".py",
   "mimetype": "text/x-python",
   "name": "python",
   "nbconvert_exporter": "python",
   "pygments_lexer": "ipython3",
   "version": "3.8.5"
  }
 },
 "nbformat": 4,
 "nbformat_minor": 4
}
