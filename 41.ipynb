{
 "cells": [
  {
   "cell_type": "markdown",
   "metadata": {},
   "source": [
    "We shall say that an n-digit number is pandigital if it makes use of all the digits 1 to n exactly once. For example, 2143 is a 4-digit pandigital and is also prime.\n",
    "\n",
    "What is the largest n-digit pandigital prime that exists?"
   ]
  },
  {
   "cell_type": "code",
   "execution_count": 4,
   "metadata": {},
   "outputs": [
    {
     "name": "stderr",
     "output_type": "stream",
     "text": [
      "  1%|          | 124867/9999000 [00:00<00:16, 609765.62it/s]"
     ]
    },
    {
     "name": "stdout",
     "output_type": "stream",
     "text": [
      "Got a hit 1423\n",
      "Got a hit 2143\n",
      "Got a hit 2341\n",
      "Got a hit 4231\n"
     ]
    },
    {
     "name": "stderr",
     "output_type": "stream",
     "text": [
      " 13%|█▎        | 1349182/9999000 [00:01<00:13, 652499.53it/s]"
     ]
    },
    {
     "name": "stdout",
     "output_type": "stream",
     "text": [
      "Got a hit 1234657\n",
      "Got a hit 1245763\n",
      "Got a hit 1246537\n",
      "Got a hit 1246573\n",
      "Got a hit 1247563\n",
      "Got a hit 1254367\n",
      "Got a hit 1254637\n",
      "Got a hit 1256347\n",
      "Got a hit 1257463\n",
      "Got a hit 1263547\n",
      "Got a hit 1264537\n",
      "Got a hit 1264573\n",
      "Got a hit 1265347\n",
      "Got a hit 1275643\n",
      "Got a hit 1276543\n",
      "Got a hit 1324567\n",
      "Got a hit 1342567\n",
      "Got a hit 1342657\n",
      "Got a hit 1345627\n",
      "Got a hit 1354267\n",
      "Got a hit 1356247\n",
      "Got a hit 1356427\n",
      "Got a hit 1362457\n"
     ]
    },
    {
     "name": "stderr",
     "output_type": "stream",
     "text": [
      " 15%|█▌        | 1549159/9999000 [00:02<00:13, 647864.43it/s]"
     ]
    },
    {
     "name": "stdout",
     "output_type": "stream",
     "text": [
      "Got a hit 1425367\n",
      "Got a hit 1426753\n",
      "Got a hit 1427563\n",
      "Got a hit 1427653\n",
      "Got a hit 1435627\n",
      "Got a hit 1436257\n",
      "Got a hit 1436527\n",
      "Got a hit 1452637\n",
      "Got a hit 1453267\n",
      "Got a hit 1463257\n",
      "Got a hit 1465273\n",
      "Got a hit 1476253\n",
      "Got a hit 1476523\n",
      "Got a hit 1524637\n",
      "Got a hit 1524763\n",
      "Got a hit 1532647\n",
      "Got a hit 1546273\n",
      "Got a hit 1546327\n",
      "Got a hit 1562347\n",
      "Got a hit 1563427\n",
      "Got a hit 1564237\n",
      "Got a hit 1572643\n",
      "Got a hit 1574623\n",
      "Got a hit 1576243\n"
     ]
    },
    {
     "name": "stderr",
     "output_type": "stream",
     "text": [
      " 17%|█▋        | 1746635/9999000 [00:02<00:12, 648639.46it/s]"
     ]
    },
    {
     "name": "stdout",
     "output_type": "stream",
     "text": [
      "Got a hit 1624573\n",
      "Got a hit 1625347\n",
      "Got a hit 1632457\n",
      "Got a hit 1634257\n",
      "Got a hit 1645327\n",
      "Got a hit 1647253\n",
      "Got a hit 1647523\n",
      "Got a hit 1652347\n",
      "Got a hit 1653427\n",
      "Got a hit 1672453\n",
      "Got a hit 1674523\n",
      "Got a hit 1725463\n",
      "Got a hit 1726453\n",
      "Got a hit 1742563\n",
      "Got a hit 1752643\n",
      "Got a hit 1764253\n"
     ]
    },
    {
     "name": "stderr",
     "output_type": "stream",
     "text": [
      " 22%|██▏       | 2230256/9999000 [00:03<00:11, 656190.89it/s]"
     ]
    },
    {
     "name": "stdout",
     "output_type": "stream",
     "text": [
      "Got a hit 2136457\n",
      "Got a hit 2143567\n",
      "Got a hit 2145763\n",
      "Got a hit 2146357\n",
      "Got a hit 2153647\n",
      "Got a hit 2156437\n",
      "Got a hit 2163547\n",
      "Got a hit 2176543\n"
     ]
    },
    {
     "name": "stderr",
     "output_type": "stream",
     "text": [
      " 24%|██▍       | 2442272/9999000 [00:03<00:11, 684491.99it/s]"
     ]
    },
    {
     "name": "stdout",
     "output_type": "stream",
     "text": [
      "Got a hit 2315647\n",
      "Got a hit 2341567\n",
      "Got a hit 2345617\n",
      "Got a hit 2347561\n",
      "Got a hit 2354167\n",
      "Got a hit 2364517\n",
      "Got a hit 2365471\n",
      "Got a hit 2375641\n",
      "Got a hit 2376541\n",
      "Got a hit 2413657\n",
      "Got a hit 2431657\n",
      "Got a hit 2436517\n",
      "Got a hit 2436571\n",
      "Got a hit 2451367\n",
      "Got a hit 2451637\n",
      "Got a hit 2456371\n",
      "Got a hit 2456731\n",
      "Got a hit 2457361\n",
      "Got a hit 2457613\n",
      "Got a hit 2467351\n"
     ]
    },
    {
     "name": "stderr",
     "output_type": "stream",
     "text": [
      " 27%|██▋       | 2653032/9999000 [00:03<00:10, 675432.36it/s]"
     ]
    },
    {
     "name": "stdout",
     "output_type": "stream",
     "text": [
      "Got a hit 2475163\n",
      "Got a hit 2476351\n",
      "Got a hit 2516473\n",
      "Got a hit 2534671\n",
      "Got a hit 2536147\n",
      "Got a hit 2537461\n",
      "Got a hit 2543617\n",
      "Got a hit 2546317\n",
      "Got a hit 2547361\n",
      "Got a hit 2547613\n",
      "Got a hit 2547631\n",
      "Got a hit 2561743\n",
      "Got a hit 2563147\n",
      "Got a hit 2563417\n",
      "Got a hit 2576341\n",
      "Got a hit 2613547\n",
      "Got a hit 2631457\n",
      "Got a hit 2634517\n",
      "Got a hit 2637451\n",
      "Got a hit 2637541\n",
      "Got a hit 2641357\n",
      "Got a hit 2645371\n",
      "Got a hit 2647531\n",
      "Got a hit 2651437\n",
      "Got a hit 2651743\n",
      "Got a hit 2653741\n"
     ]
    },
    {
     "name": "stderr",
     "output_type": "stream",
     "text": [
      " 28%|██▊       | 2790213/9999000 [00:04<00:10, 670426.00it/s]"
     ]
    },
    {
     "name": "stdout",
     "output_type": "stream",
     "text": [
      "Got a hit 2654317\n",
      "Got a hit 2654371\n",
      "Got a hit 2657143\n",
      "Got a hit 2657341\n",
      "Got a hit 2674513\n",
      "Got a hit 2674531\n",
      "Got a hit 2714563\n",
      "Got a hit 2716453\n",
      "Got a hit 2716543\n",
      "Got a hit 2734561\n",
      "Got a hit 2735641\n",
      "Got a hit 2736451\n",
      "Got a hit 2741653\n",
      "Got a hit 2743561\n",
      "Got a hit 2745361\n",
      "Got a hit 2754361\n",
      "Got a hit 2761453\n",
      "Got a hit 2761543\n",
      "Got a hit 2765143\n"
     ]
    },
    {
     "name": "stderr",
     "output_type": "stream",
     "text": [
      " 32%|███▏      | 3221349/9999000 [00:04<00:10, 666707.02it/s]"
     ]
    },
    {
     "name": "stdout",
     "output_type": "stream",
     "text": [
      "Got a hit 3124567\n",
      "Got a hit 3124657\n",
      "Got a hit 3126457\n",
      "Got a hit 3126547\n",
      "Got a hit 3145627\n",
      "Got a hit 3152467\n",
      "Got a hit 3154267\n",
      "Got a hit 3156427\n",
      "Got a hit 3165427\n",
      "Got a hit 3214567\n",
      "Got a hit 3214657\n",
      "Got a hit 3215467\n",
      "Got a hit 3216457\n",
      "Got a hit 3241657\n",
      "Got a hit 3245761\n",
      "Got a hit 3246157\n",
      "Got a hit 3246751\n",
      "Got a hit 3251467\n",
      "Got a hit 3254761\n",
      "Got a hit 3256417\n",
      "Got a hit 3256471\n",
      "Got a hit 3257641\n",
      "Got a hit 3261547\n"
     ]
    },
    {
     "name": "stderr",
     "output_type": "stream",
     "text": [
      " 34%|███▎      | 3355051/9999000 [00:04<00:10, 655850.42it/s]"
     ]
    },
    {
     "name": "stdout",
     "output_type": "stream",
     "text": [
      "Got a hit 3264571\n",
      "Got a hit 3265741\n"
     ]
    },
    {
     "name": "stderr",
     "output_type": "stream",
     "text": [
      " 35%|███▍      | 3496387/9999000 [00:05<00:09, 671436.34it/s]"
     ]
    },
    {
     "name": "stdout",
     "output_type": "stream",
     "text": [
      "Got a hit 3412567\n",
      "Got a hit 3412657\n",
      "Got a hit 3415627\n",
      "Got a hit 3421567\n",
      "Got a hit 3421657\n",
      "Got a hit 3427561\n",
      "Got a hit 3451627\n",
      "Got a hit 3452671\n",
      "Got a hit 3456127\n",
      "Got a hit 3456217\n",
      "Got a hit 3456721\n",
      "Got a hit 3457261\n",
      "Got a hit 3461257\n",
      "Got a hit 3462517\n",
      "Got a hit 3462751\n",
      "Got a hit 3465271\n",
      "Got a hit 3467251\n",
      "Got a hit 3467521\n",
      "Got a hit 3475261\n",
      "Got a hit 3512647\n",
      "Got a hit 3514267\n",
      "Got a hit 3516427\n",
      "Got a hit 3524617\n",
      "Got a hit 3526147\n",
      "Got a hit 3526741\n",
      "Got a hit 3542167\n",
      "Got a hit 3542761\n",
      "Got a hit 3546271\n",
      "Got a hit 3546721\n",
      "Got a hit 3561247\n",
      "Got a hit 3562417\n"
     ]
    },
    {
     "name": "stderr",
     "output_type": "stream",
     "text": [
      " 37%|███▋      | 3709205/9999000 [00:05<00:09, 698069.46it/s]"
     ]
    },
    {
     "name": "stdout",
     "output_type": "stream",
     "text": [
      "Got a hit 3574621\n",
      "Got a hit 3576421\n",
      "Got a hit 3612457\n",
      "Got a hit 3612547\n",
      "Got a hit 3624157\n",
      "Got a hit 3627451\n",
      "Got a hit 3642157\n",
      "Got a hit 3642571\n",
      "Got a hit 3672451\n",
      "Got a hit 3672541\n",
      "Got a hit 3674521\n",
      "Got a hit 3675241\n",
      "Got a hit 3725461\n",
      "Got a hit 3742561\n",
      "Got a hit 3746521\n"
     ]
    },
    {
     "name": "stderr",
     "output_type": "stream",
     "text": [
      " 39%|███▉      | 3927513/9999000 [00:05<00:08, 720091.63it/s]"
     ]
    },
    {
     "name": "stdout",
     "output_type": "stream",
     "text": [
      "Got a hit 3752641\n",
      "Got a hit 3756241\n",
      "Got a hit 3756421\n",
      "Got a hit 3765241\n"
     ]
    },
    {
     "name": "stderr",
     "output_type": "stream",
     "text": [
      " 42%|████▏     | 4228051/9999000 [00:06<00:08, 663143.80it/s]"
     ]
    },
    {
     "name": "stdout",
     "output_type": "stream",
     "text": [
      "Got a hit 4125637\n",
      "Got a hit 4125673\n",
      "Got a hit 4126537\n",
      "Got a hit 4127653\n",
      "Got a hit 4135627\n",
      "Got a hit 4152763\n",
      "Got a hit 4157623\n",
      "Got a hit 4165327\n",
      "Got a hit 4167523\n",
      "Got a hit 4172653\n",
      "Got a hit 4175263\n",
      "Got a hit 4176253\n",
      "Got a hit 4213567\n",
      "Got a hit 4216573\n",
      "Got a hit 4216753\n",
      "Got a hit 4231567\n",
      "Got a hit 4235761\n",
      "Got a hit 4253167\n",
      "Got a hit 4253617\n",
      "Got a hit 4253671\n",
      "Got a hit 4257163\n",
      "Got a hit 4257613\n"
     ]
    },
    {
     "name": "stderr",
     "output_type": "stream",
     "text": [
      " 44%|████▎     | 4362497/9999000 [00:06<00:08, 658632.59it/s]"
     ]
    },
    {
     "name": "stdout",
     "output_type": "stream",
     "text": [
      "Got a hit 4261357\n",
      "Got a hit 4263157\n",
      "Got a hit 4265137\n",
      "Got a hit 4265713\n",
      "Got a hit 4265731\n",
      "Got a hit 4267531\n",
      "Got a hit 4271563\n",
      "Got a hit 4276513\n",
      "Got a hit 4312657\n",
      "Got a hit 4321657\n",
      "Got a hit 4325617\n",
      "Got a hit 4326571\n",
      "Got a hit 4356217\n",
      "Got a hit 4356721\n",
      "Got a hit 4361257\n",
      "Got a hit 4362751\n",
      "Got a hit 4365271\n",
      "Got a hit 4372651\n",
      "Got a hit 4375621\n"
     ]
    },
    {
     "name": "stderr",
     "output_type": "stream",
     "text": [
      " 47%|████▋     | 4653104/9999000 [00:06<00:07, 699799.69it/s]"
     ]
    },
    {
     "name": "stdout",
     "output_type": "stream",
     "text": [
      "Got a hit 4513627\n",
      "Got a hit 4516327\n",
      "Got a hit 4521367\n",
      "Got a hit 4521637\n",
      "Got a hit 4523671\n",
      "Got a hit 4526371\n",
      "Got a hit 4527361\n",
      "Got a hit 4537261\n",
      "Got a hit 4561237\n",
      "Got a hit 4561327\n",
      "Got a hit 4561723\n",
      "Got a hit 4562317\n",
      "Got a hit 4562731\n",
      "Got a hit 4563127\n",
      "Got a hit 4563217\n",
      "Got a hit 4563271\n",
      "Got a hit 4567231\n",
      "Got a hit 4571263\n",
      "Got a hit 4572163\n",
      "Got a hit 4621537\n",
      "Got a hit 4625713\n",
      "Got a hit 4631527\n",
      "Got a hit 4637251\n",
      "Got a hit 4652173\n",
      "Got a hit 4652317\n",
      "Got a hit 4657123\n",
      "Got a hit 4657321\n",
      "Got a hit 4672531\n",
      "Got a hit 4675123\n"
     ]
    },
    {
     "name": "stderr",
     "output_type": "stream",
     "text": [
      " 49%|████▊     | 4873459/9999000 [00:07<00:07, 724605.17it/s]"
     ]
    },
    {
     "name": "stdout",
     "output_type": "stream",
     "text": [
      "Got a hit 4712563\n",
      "Got a hit 4716253\n",
      "Got a hit 4721653\n",
      "Got a hit 4723561\n",
      "Got a hit 4725613\n",
      "Got a hit 4725631\n",
      "Got a hit 4732561\n",
      "Got a hit 4752361\n",
      "Got a hit 4765213\n"
     ]
    },
    {
     "name": "stderr",
     "output_type": "stream",
     "text": [
      " 53%|█████▎    | 5252364/9999000 [00:07<00:06, 700490.54it/s]"
     ]
    },
    {
     "name": "stdout",
     "output_type": "stream",
     "text": [
      "Got a hit 5123467\n",
      "Got a hit 5126347\n",
      "Got a hit 5126437\n",
      "Got a hit 5136427\n",
      "Got a hit 5142637\n",
      "Got a hit 5143267\n",
      "Got a hit 5146237\n",
      "Got a hit 5162473\n",
      "Got a hit 5162743\n",
      "Got a hit 5164273\n",
      "Got a hit 5164723\n",
      "Got a hit 5172463\n",
      "Got a hit 5176243\n",
      "Got a hit 5214367\n",
      "Got a hit 5214637\n",
      "Got a hit 5214763\n",
      "Got a hit 5216473\n",
      "Got a hit 5231647\n",
      "Got a hit 5234167\n",
      "Got a hit 5236741\n",
      "Got a hit 5237641\n",
      "Got a hit 5241673\n",
      "Got a hit 5243167\n",
      "Got a hit 5243761\n",
      "Got a hit 5246173\n",
      "Got a hit 5246713\n",
      "Got a hit 5247163\n",
      "Got a hit 5261743\n",
      "Got a hit 5263417\n",
      "Got a hit 5264137\n",
      "Got a hit 5264173\n",
      "Got a hit 5267341\n",
      "Got a hit 5267413\n",
      "Got a hit 5271463\n",
      "Got a hit 5274163\n",
      "Got a hit 5274631\n",
      "Got a hit 5276431\n"
     ]
    },
    {
     "name": "stderr",
     "output_type": "stream",
     "text": [
      " 54%|█████▍    | 5398083/9999000 [00:07<00:06, 680817.28it/s]"
     ]
    },
    {
     "name": "stdout",
     "output_type": "stream",
     "text": [
      "Got a hit 5312467\n",
      "Got a hit 5321467\n",
      "Got a hit 5321647\n",
      "Got a hit 5327461\n",
      "Got a hit 5341627\n",
      "Got a hit 5342167\n",
      "Got a hit 5342761\n",
      "Got a hit 5346127\n",
      "Got a hit 5347621\n",
      "Got a hit 5361247\n",
      "Got a hit 5364127\n",
      "Got a hit 5367421\n",
      "Got a hit 5376421\n",
      "Got a hit 5421673\n",
      "Got a hit 5421763\n",
      "Got a hit 5423167\n",
      "Got a hit 5423617\n",
      "Got a hit 5426173\n",
      "Got a hit 5426371\n",
      "Got a hit 5426713\n",
      "Got a hit 5431627\n",
      "Got a hit 5436127\n",
      "Got a hit 5436217\n",
      "Got a hit 5436271\n",
      "Got a hit 5436721\n"
     ]
    },
    {
     "name": "stderr",
     "output_type": "stream",
     "text": [
      " 55%|█████▌    | 5535185/9999000 [00:08<00:06, 664388.59it/s]"
     ]
    },
    {
     "name": "stdout",
     "output_type": "stream",
     "text": [
      "Got a hit 5461273\n",
      "Got a hit 5461723\n",
      "Got a hit 5462137\n",
      "Got a hit 5462173\n",
      "Got a hit 5463217\n",
      "Got a hit 5463721\n",
      "Got a hit 5472613\n",
      "Got a hit 5472631\n",
      "Got a hit 5473261\n",
      "Got a hit 5476213\n"
     ]
    },
    {
     "name": "stderr",
     "output_type": "stream",
     "text": [
      " 58%|█████▊    | 5752368/9999000 [00:08<00:06, 687075.74it/s]"
     ]
    },
    {
     "name": "stdout",
     "output_type": "stream",
     "text": [
      "Got a hit 5614327\n",
      "Got a hit 5621437\n",
      "Got a hit 5624137\n",
      "Got a hit 5624317\n",
      "Got a hit 5624713\n",
      "Got a hit 5627143\n",
      "Got a hit 5631427\n",
      "Got a hit 5632741\n",
      "Got a hit 5634217\n",
      "Got a hit 5634721\n",
      "Got a hit 5641327\n",
      "Got a hit 5643217\n",
      "Got a hit 5647231\n",
      "Got a hit 5647321\n",
      "Got a hit 5672341\n",
      "Got a hit 5672413\n",
      "Got a hit 5674231\n",
      "Got a hit 5723461\n",
      "Got a hit 5724163\n",
      "Got a hit 5724613\n",
      "Got a hit 5726143\n",
      "Got a hit 5726341\n",
      "Got a hit 5734621\n",
      "Got a hit 5742361\n",
      "Got a hit 5742631\n",
      "Got a hit 5746123\n",
      "Got a hit 5746231\n",
      "Got a hit 5761423\n",
      "Got a hit 5762143\n",
      "Got a hit 5762413\n",
      "Got a hit 5763421\n"
     ]
    },
    {
     "name": "stderr",
     "output_type": "stream",
     "text": [
      " 62%|██████▏   | 6199472/9999000 [00:08<00:05, 689712.52it/s]"
     ]
    },
    {
     "name": "stdout",
     "output_type": "stream",
     "text": [
      "Got a hit 6124753\n",
      "Got a hit 6134257\n",
      "Got a hit 6142573\n",
      "Got a hit 6145273\n",
      "Got a hit 6145327\n",
      "Got a hit 6145723\n",
      "Got a hit 6152743\n",
      "Got a hit 6154273\n",
      "Got a hit 6154723\n",
      "Got a hit 6174253\n",
      "Got a hit 6175243\n",
      "Got a hit 6175423\n",
      "Got a hit 6214357\n",
      "Got a hit 6214573\n",
      "Got a hit 6214753\n",
      "Got a hit 6215347\n",
      "Got a hit 6217543\n",
      "Got a hit 6234517\n",
      "Got a hit 6235147\n",
      "Got a hit 6235417\n",
      "Got a hit 6235741\n",
      "Got a hit 6241537\n",
      "Got a hit 6243157\n",
      "Got a hit 6245731\n",
      "Got a hit 6251347\n",
      "Got a hit 6251743\n"
     ]
    },
    {
     "name": "stderr",
     "output_type": "stream",
     "text": [
      " 63%|██████▎   | 6337355/9999000 [00:09<00:05, 671672.65it/s]"
     ]
    },
    {
     "name": "stdout",
     "output_type": "stream",
     "text": [
      "Got a hit 6257143\n",
      "Got a hit 6257431\n",
      "Got a hit 6274531\n",
      "Got a hit 6275341\n",
      "Got a hit 6312547\n",
      "Got a hit 6321457\n",
      "Got a hit 6325471\n",
      "Got a hit 6342157\n",
      "Got a hit 6342517\n",
      "Got a hit 6345127\n",
      "Got a hit 6345271\n",
      "Got a hit 6345721\n",
      "Got a hit 6347521\n",
      "Got a hit 6352147\n",
      "Got a hit 6352741\n",
      "Got a hit 6354217\n"
     ]
    },
    {
     "name": "stderr",
     "output_type": "stream",
     "text": [
      " 65%|██████▌   | 6544396/9999000 [00:09<00:05, 677287.22it/s]"
     ]
    },
    {
     "name": "stdout",
     "output_type": "stream",
     "text": [
      "Got a hit 6415237\n",
      "Got a hit 6421573\n",
      "Got a hit 6423517\n",
      "Got a hit 6423751\n",
      "Got a hit 6435127\n",
      "Got a hit 6435721\n",
      "Got a hit 6437521\n",
      "Got a hit 6451723\n",
      "Got a hit 6452137\n",
      "Got a hit 6453721\n",
      "Got a hit 6457123\n",
      "Got a hit 6472351\n",
      "Got a hit 6472513\n",
      "Got a hit 6473251\n",
      "Got a hit 6475321\n",
      "Got a hit 6512347\n",
      "Got a hit 6512437\n",
      "Got a hit 6513427\n",
      "Got a hit 6514327\n",
      "Got a hit 6524137\n",
      "Got a hit 6527413\n",
      "Got a hit 6541723\n",
      "Got a hit 6542713\n",
      "Got a hit 6543127\n",
      "Got a hit 6547213\n"
     ]
    },
    {
     "name": "stderr",
     "output_type": "stream",
     "text": [
      " 68%|██████▊   | 6839075/9999000 [00:09<00:04, 722829.88it/s]"
     ]
    },
    {
     "name": "stdout",
     "output_type": "stream",
     "text": [
      "Got a hit 6572143\n",
      "Got a hit 6572413\n",
      "Got a hit 6572431\n",
      "Got a hit 6574231\n",
      "Got a hit 6714523\n",
      "Got a hit 6724351\n",
      "Got a hit 6725143\n",
      "Got a hit 6732541\n",
      "Got a hit 6734521\n",
      "Got a hit 6745231\n",
      "Got a hit 6751243\n",
      "Got a hit 6754213\n"
     ]
    },
    {
     "name": "stderr",
     "output_type": "stream",
     "text": [
      " 72%|███████▏  | 7206730/9999000 [00:10<00:04, 696030.84it/s]"
     ]
    },
    {
     "name": "stdout",
     "output_type": "stream",
     "text": [
      "Got a hit 7124653\n",
      "Got a hit 7125463\n",
      "Got a hit 7126453\n",
      "Got a hit 7126543\n",
      "Got a hit 7142563\n",
      "Got a hit 7145623\n",
      "Got a hit 7152643\n",
      "Got a hit 7164253\n",
      "Got a hit 7165423\n",
      "Got a hit 7215643\n",
      "Got a hit 7216453\n",
      "Got a hit 7216543\n",
      "Got a hit 7234651\n",
      "Got a hit 7245361\n",
      "Got a hit 7246513\n",
      "Got a hit 7253461\n",
      "Got a hit 7253641\n",
      "Got a hit 7256341\n",
      "Got a hit 7264351\n",
      "Got a hit 7264513\n",
      "Got a hit 7264531\n"
     ]
    },
    {
     "name": "stderr",
     "output_type": "stream",
     "text": [
      " 74%|███████▍  | 7418580/9999000 [00:10<00:03, 696579.52it/s]"
     ]
    },
    {
     "name": "stdout",
     "output_type": "stream",
     "text": [
      "Got a hit 7324561\n",
      "Got a hit 7324651\n",
      "Got a hit 7352461\n",
      "Got a hit 7354261\n",
      "Got a hit 7356421\n",
      "Got a hit 7362541\n",
      "Got a hit 7412563\n",
      "Got a hit 7412653\n",
      "Got a hit 7415623\n",
      "Got a hit 7421563\n",
      "Got a hit 7425361\n",
      "Got a hit 7425631\n",
      "Got a hit 7426351\n",
      "Got a hit 7432651\n",
      "Got a hit 7435621\n",
      "Got a hit 7451263\n",
      "Got a hit 7451623\n",
      "Got a hit 7452163\n",
      "Got a hit 7456231\n",
      "Got a hit 7456321\n",
      "Got a hit 7462513\n"
     ]
    },
    {
     "name": "stderr",
     "output_type": "stream",
     "text": [
      " 76%|███████▋  | 7629258/9999000 [00:11<00:03, 695707.52it/s]"
     ]
    },
    {
     "name": "stdout",
     "output_type": "stream",
     "text": [
      "Got a hit 7514623\n",
      "Got a hit 7524631\n",
      "Got a hit 7526143\n",
      "Got a hit 7536241\n",
      "Got a hit 7536421\n",
      "Got a hit 7541623\n",
      "Got a hit 7542163\n",
      "Got a hit 7546321\n",
      "Got a hit 7561423\n",
      "Got a hit 7562341\n",
      "Got a hit 7562413\n",
      "Got a hit 7562431\n",
      "Got a hit 7564231\n",
      "Got a hit 7621543\n",
      "Got a hit 7624531\n",
      "Got a hit 7625143\n",
      "Got a hit 7625341\n",
      "Got a hit 7641253\n",
      "Got a hit 7642513\n",
      "Got a hit 7652413\n"
     ]
    },
    {
     "name": "stderr",
     "output_type": "stream",
     "text": [
      "100%|██████████| 9999000/9999000 [00:14<00:00, 704671.68it/s]"
     ]
    },
    {
     "name": "stdout",
     "output_type": "stream",
     "text": [
      "The largest pandigital prime I found is 7652413\n"
     ]
    },
    {
     "name": "stderr",
     "output_type": "stream",
     "text": [
      "\n"
     ]
    }
   ],
   "source": [
    "from helpers import is_prime, is_pandigital\n",
    "from tqdm import tqdm\n",
    "\n",
    "\n",
    "hits = []\n",
    "for n in tqdm(range(1000, 10000000)):\n",
    "    must_be_n = len(str(n))\n",
    "    if must_be_n > 9:\n",
    "        leftovers = must_be_n - 9\n",
    "        if must_be_n % 2 == 0:\n",
    "            # even\n",
    "            must_be_n = 9 + leftovers//2\n",
    "        else:\n",
    "            # uneven => can't be pandigital\n",
    "            continue\n",
    "    if is_pandigital(n, must_be_n):\n",
    "        if is_prime(n):\n",
    "            print(\"Got a hit\", n)\n",
    "            hits.append(n)\n",
    "            \n",
    "print(\"The largest pandigital prime I found is\", hits[-1])"
   ]
  }
 ],
 "metadata": {
  "kernelspec": {
   "display_name": "Python 3",
   "language": "python",
   "name": "python3"
  },
  "language_info": {
   "codemirror_mode": {
    "name": "ipython",
    "version": 3
   },
   "file_extension": ".py",
   "mimetype": "text/x-python",
   "name": "python",
   "nbconvert_exporter": "python",
   "pygments_lexer": "ipython3",
   "version": "3.8.5"
  }
 },
 "nbformat": 4,
 "nbformat_minor": 4
}
