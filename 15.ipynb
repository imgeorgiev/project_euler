{
 "cells": [
  {
   "cell_type": "markdown",
   "metadata": {},
   "source": [
    "Starting in the top left corner of a 2×2 grid, and only being able to move to the right and down, there are exactly 6 routes to the bottom right corner.\n",
    "\n",
    "![](https://projecteuler.net/project/images/p015.png)\n",
    "\n",
    "How many such routes are there through a 20×20 grid?"
   ]
  },
  {
   "cell_type": "code",
   "execution_count": 38,
   "metadata": {},
   "outputs": [
    {
     "name": "stderr",
     "output_type": "stream",
     "text": [
      "100%|██████████| 100000/100000 [1:25:33<00:00, 19.48it/s]    "
     ]
    },
    {
     "name": "stdout",
     "output_type": "stream",
     "text": [
      "Found a total of 99998 solutions\n",
      "CPU times: user 45min 45s, sys: 15.1 s, total: 46min\n",
      "Wall time: 1h 25min 33s\n"
     ]
    },
    {
     "name": "stderr",
     "output_type": "stream",
     "text": [
      "\n"
     ]
    }
   ],
   "source": [
    "%%time\n",
    "from random import randrange\n",
    "from tqdm import tqdm\n",
    "\n",
    "grid_size = 20\n",
    "cells = []\n",
    "start = (0,0)\n",
    "goal = (20,20)\n",
    "for i in range(grid_size+1):\n",
    "    for j in range(grid_size+1):\n",
    "        cells.append((i,j))\n",
    "        \n",
    "def traverse(current, grid_size):\n",
    "    can_move_down = current[0] < grid_size\n",
    "    can_move_right = current[1] < grid_size\n",
    "    \n",
    "    if can_move_down and not can_move_right:\n",
    "        return (current[0]+1, current[1])\n",
    "    elif not can_move_down and can_move_right:\n",
    "        return (current[0], current[1]+1)\n",
    "    elif can_move_down and can_move_right:\n",
    "        # do a random move\n",
    "        if randrange(2) == 0:\n",
    "            return (current[0]+1, current[1])\n",
    "        else:\n",
    "            return (current[0], current[1]+1)\n",
    "    else:\n",
    "        print(\"Something fucked up\")\n",
    "        \n",
    "attempts = 100000\n",
    "unique_solutions = []\n",
    "for a in tqdm(range(attempts)):\n",
    "    trace = []\n",
    "    current = start\n",
    "    while current != goal:\n",
    "        trace.append(current)\n",
    "        current = traverse(current, grid_size)\n",
    "    \n",
    "    if trace not in unique_solutions:\n",
    "        unique_solutions.append(trace)\n",
    "        \n",
    "print(\"Found a total of {} solutions\".format(len(unique_solutions)))"
   ]
  },
  {
   "cell_type": "code",
   "execution_count": 36,
   "metadata": {},
   "outputs": [],
   "source": [
    "import tqdm"
   ]
  },
  {
   "cell_type": "code",
   "execution_count": null,
   "metadata": {},
   "outputs": [],
   "source": []
  }
 ],
 "metadata": {
  "kernelspec": {
   "display_name": "Python 3",
   "language": "python",
   "name": "python3"
  },
  "language_info": {
   "codemirror_mode": {
    "name": "ipython",
    "version": 3
   },
   "file_extension": ".py",
   "mimetype": "text/x-python",
   "name": "python",
   "nbconvert_exporter": "python",
   "pygments_lexer": "ipython3",
   "version": "3.8.5"
  }
 },
 "nbformat": 4,
 "nbformat_minor": 4
}
