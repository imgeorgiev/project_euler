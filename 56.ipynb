{
 "cells": [
  {
   "cell_type": "markdown",
   "metadata": {},
   "source": [
    "A googol ($10^{100}$) is a massive number: one followed by one-hundred zeros; $100^{100}$ is almost unimaginably large: one followed by two-hundred zeros. Despite their size, the sum of the digits in each number is only 1.\n",
    "\n",
    "Considering natural numbers of the form, $a^b$, where a, b < 100, what is the maximum digital sum?"
   ]
  },
  {
   "cell_type": "code",
   "execution_count": 17,
   "metadata": {},
   "outputs": [
    {
     "name": "stdout",
     "output_type": "stream",
     "text": [
      "Biggest digit sum is 99^95 = 972\n"
     ]
    }
   ],
   "source": [
    "biggest_sum = 0\n",
    "comb = (1,1)\n",
    "for i in range(1,100):\n",
    "    for j in range(1,100):\n",
    "        s = 0\n",
    "        for n in list(str(i**j)):\n",
    "            s += int(n)\n",
    "        \n",
    "        if s > biggest_sum:\n",
    "            biggest_sum = s\n",
    "            comb = (i,j)\n",
    "\n",
    "print(\"Biggest digit sum is {:}^{:} = {:}\".format(comb[0], comb[1], biggest_sum))"
   ]
  },
  {
   "cell_type": "code",
   "execution_count": null,
   "metadata": {},
   "outputs": [],
   "source": []
  }
 ],
 "metadata": {
  "kernelspec": {
   "display_name": "Python 3",
   "language": "python",
   "name": "python3"
  },
  "language_info": {
   "codemirror_mode": {
    "name": "ipython",
    "version": 3
   },
   "file_extension": ".py",
   "mimetype": "text/x-python",
   "name": "python",
   "nbconvert_exporter": "python",
   "pygments_lexer": "ipython3",
   "version": "3.8.5"
  }
 },
 "nbformat": 4,
 "nbformat_minor": 4
}
