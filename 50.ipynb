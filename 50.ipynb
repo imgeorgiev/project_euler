{
 "cells": [
  {
   "cell_type": "markdown",
   "metadata": {},
   "source": [
    "The prime 41, can be written as the sum of six consecutive primes:\n",
    "\n",
    "41 = 2 + 3 + 5 + 7 + 11 + 13\n",
    "\n",
    "This is the longest sum of consecutive primes that adds to a prime below one-hundred.\n",
    "\n",
    "The longest sum of consecutive primes below one-thousand that adds to a prime, contains 21 terms, and is equal to 953.\n",
    "\n",
    "Which prime, below one-million, can be written as the sum of the most consecutive primes?"
   ]
  },
  {
   "cell_type": "code",
   "execution_count": 7,
   "metadata": {},
   "outputs": [
    {
     "name": "stdout",
     "output_type": "stream",
     "text": [
      "Generating primes...\n"
     ]
    }
   ],
   "source": [
    "from helpers import gen_primes, is_prime\n",
    "from tqdm import tqdm\n",
    "\n",
    "print(\"Generating primes...\")\n",
    "primes = []\n",
    "for n in gen_primes():\n",
    "    if n < 1000000:\n",
    "        primes.append(n)\n",
    "    else:\n",
    "        break"
   ]
  },
  {
   "cell_type": "code",
   "execution_count": 10,
   "metadata": {},
   "outputs": [
    {
     "data": {
      "text/plain": [
       "997651"
      ]
     },
     "execution_count": 10,
     "metadata": {},
     "output_type": "execute_result"
    }
   ],
   "source": [
    "# length of the consecutive prime sum\n",
    "length = 0\n",
    "\n",
    "# value of the consecutive prime sum\n",
    "largest = 0\n",
    "\n",
    "# max value of the j variable(second for loop)\n",
    "lastj = len(primes)\n",
    "\n",
    "# two for loops\n",
    "for i in range(len(primes)):\n",
    "    for j in range(i+length, lastj):\n",
    "        sol = sum(primes[i:j])\n",
    "        if sol < 1000000:\n",
    "            if sol in primes:\n",
    "                length = j-i\n",
    "                largest = sol\n",
    "        else:\n",
    "            lastj = j+1\n",
    "            break\n",
    "\n",
    "# printing the requried solution\n",
    "largest"
   ]
  }
 ],
 "metadata": {
  "kernelspec": {
   "display_name": "Python 3",
   "language": "python",
   "name": "python3"
  },
  "language_info": {
   "codemirror_mode": {
    "name": "ipython",
    "version": 3
   },
   "file_extension": ".py",
   "mimetype": "text/x-python",
   "name": "python",
   "nbconvert_exporter": "python",
   "pygments_lexer": "ipython3",
   "version": "3.8.5"
  }
 },
 "nbformat": 4,
 "nbformat_minor": 4
}
