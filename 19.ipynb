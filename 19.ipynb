{
 "cells": [
  {
   "cell_type": "markdown",
   "metadata": {},
   "source": [
    "You are given the following information, but you may prefer to do some research for yourself.\n",
    "\n",
    "- 1 Jan 1900 was a Monday. Thirty days has September, April, June and November. All the rest have thirty-one, Saving February alone, Which has twenty-eight, rain or shine. And on leap years, twenty-nine.\n",
    "- A leap year occurs on any year evenly divisible by 4, but not on a century unless it is divisible by 400.\n",
    "\n",
    "How many Sundays fell on the first of the month during the twentieth century (1 Jan 1901 to 31 Dec 2000)?"
   ]
  },
  {
   "cell_type": "code",
   "execution_count": 12,
   "metadata": {},
   "outputs": [],
   "source": [
    "class Day:\n",
    "    MONDAY=0\n",
    "    TUESDAY=1\n",
    "    WEDNESDAY=2\n",
    "    THURSDAY=3\n",
    "    FRIDAY=4\n",
    "    SATURDAY=5\n",
    "    SUNDAY=6\n",
    "\n",
    "class Month:\n",
    "    JAN=0\n",
    "    FEB=1\n",
    "    MAR=2\n",
    "    APR=3\n",
    "    MAY=4\n",
    "    JUNE=5\n",
    "    JULY=6\n",
    "    AUG=7\n",
    "    SEP=8\n",
    "    OCT=9\n",
    "    NOV=10\n",
    "    DEC=11\n",
    "    \n",
    "    def __init__(self, first_day, index, leap_year=False):\n",
    "#         assert(length in [28,29,30,31])\n",
    "        assert(index in list(range(12)))\n",
    "        assert(first_day in list(range(7)))\n",
    "        self.first_day = first_day\n",
    "        self.index = index\n",
    "        self.leap_year = leap_year\n",
    "        \n",
    "        if index in [3,6,8,10]:\n",
    "            self.length=30\n",
    "        elif index == 1:\n",
    "            if leap_year:\n",
    "                self.length = 29\n",
    "            else:\n",
    "                self.length = 28\n",
    "        else:\n",
    "            self.length=31\n",
    "    \n",
    "    def sunday_first(self):\n",
    "        return self.first_day == Day.SUNDAY\n",
    "    \n",
    "    def next_month(self):\n",
    "        index = (self.index + 1) % 12\n",
    "        new_year = self.index == Month.DEC\n",
    "        first_day = (self.first_day + self.length) % 7\n",
    "        leap_year = self.leap_year if not new_year else False\n",
    "        next_month = Month(first_day, index, leap_year)\n",
    "        return (next_month, new_year)\n",
    "    \n",
    "    \n",
    "def leap_year(year):\n",
    "    is_century = (year % 100) ==0\n",
    "    div_by_400 = (year % 400) ==0\n",
    "    if is_century and div_by_400:\n",
    "        return True\n",
    "    elif is_century:\n",
    "        return False\n",
    "    else:\n",
    "        return year % 4 == 0"
   ]
  },
  {
   "cell_type": "code",
   "execution_count": 16,
   "metadata": {},
   "outputs": [
    {
     "name": "stdout",
     "output_type": "stream",
     "text": [
      "There are 172 sundays on the 1st of months\n"
     ]
    }
   ],
   "source": [
    "year = 1900\n",
    "end = 2001\n",
    "month = Month(Day.MONDAY, Month.JAN, leap_year(year))\n",
    "sundays = 0\n",
    "\n",
    "while year != 2001:\n",
    "    sundays += 1 if month.sunday_first() else 0\n",
    "    (month, new_year) = month.next_month()\n",
    "    year += 1 if new_year else 0\n",
    "    \n",
    "print(\"There are {} sundays on the 1st of months\".format(sundays))"
   ]
  },
  {
   "cell_type": "code",
   "execution_count": 5,
   "metadata": {},
   "outputs": [
    {
     "data": {
      "text/plain": [
       "False"
      ]
     },
     "execution_count": 5,
     "metadata": {},
     "output_type": "execute_result"
    }
   ],
   "source": [
    "leap_year(start_year)"
   ]
  }
 ],
 "metadata": {
  "kernelspec": {
   "display_name": "Python 3",
   "language": "python",
   "name": "python3"
  },
  "language_info": {
   "codemirror_mode": {
    "name": "ipython",
    "version": 3
   },
   "file_extension": ".py",
   "mimetype": "text/x-python",
   "name": "python",
   "nbconvert_exporter": "python",
   "pygments_lexer": "ipython3",
   "version": "3.8.5"
  }
 },
 "nbformat": 4,
 "nbformat_minor": 4
}
