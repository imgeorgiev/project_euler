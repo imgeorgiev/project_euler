{
 "cells": [
  {
   "cell_type": "markdown",
   "metadata": {},
   "source": [
    "A perfect number is a number for which the sum of its proper divisors is exactly equal to the number. For example, the sum of the proper divisors of 28 would be 1 + 2 + 4 + 7 + 14 = 28, which means that 28 is a perfect number.\n",
    "\n",
    "A number n is called deficient if the sum of its proper divisors is less than n and it is called abundant if this sum exceeds n.\n",
    "\n",
    "As 12 is the smallest abundant number, 1 + 2 + 3 + 4 + 6 = 16, the smallest number that can be written as the sum of two abundant numbers is 24. By mathematical analysis, it can be shown that all integers greater than 28123 can be written as the sum of two abundant numbers. However, this upper limit cannot be reduced any further by analysis even though it is known that the greatest number that cannot be expressed as the sum of two abundant numbers is less than this limit.\n",
    "\n",
    "Find the sum of all the positive integers which cannot be written as the sum of two abundant numbers."
   ]
  },
  {
   "cell_type": "code",
   "execution_count": 1,
   "metadata": {},
   "outputs": [],
   "source": [
    "def divisors(n):\n",
    "    divs = []\n",
    "    for i in range(1, n//2+1):\n",
    "        if n % i == 0:\n",
    "            divs.append(i) \n",
    "    return divs"
   ]
  },
  {
   "cell_type": "code",
   "execution_count": 2,
   "metadata": {},
   "outputs": [
    {
     "name": "stdout",
     "output_type": "stream",
     "text": [
      "Found 6965 abundant numbers\n"
     ]
    }
   ],
   "source": [
    "# find all abundant numbers\n",
    "abundant = []\n",
    "maxi = 28123\n",
    "for n in range(1, maxi+1):\n",
    "    if sum(divisors(n)) > n:\n",
    "        abundant.append(n)\n",
    "\n",
    "print(\"Found {} abundant numbers\".format(len(abundant)))"
   ]
  },
  {
   "cell_type": "code",
   "execution_count": 12,
   "metadata": {},
   "outputs": [
    {
     "name": "stderr",
     "output_type": "stream",
     "text": [
      "100%|██████████| 28123/28123 [12:31<00:00, 37.40it/s] "
     ]
    },
    {
     "name": "stdout",
     "output_type": "stream",
     "text": [
      "Found 1456 special numbers with a sum of 4179871\n"
     ]
    },
    {
     "name": "stderr",
     "output_type": "stream",
     "text": [
      "\n"
     ]
    }
   ],
   "source": [
    "def can_be_summed(num, options):\n",
    "    for idx, i in enumerate(options):\n",
    "        if i < num:\n",
    "            for j in options[idx:]:\n",
    "                if j < num:\n",
    "                    s = i+j\n",
    "                    if s == num:\n",
    "                        return True\n",
    "                    elif s > num:\n",
    "                        break\n",
    "    return False\n",
    "\n",
    "from tqdm import tqdm\n",
    "special_nums = []\n",
    "for n in tqdm(range(1,maxi+1)):\n",
    "    if not can_be_summed(n, abundant):\n",
    "        special_nums.append(n)\n",
    "\n",
    "print(\"Found {} special numbers with a sum of {}\".format(len(special_nums), sum(special_nums)))"
   ]
  }
 ],
 "metadata": {
  "kernelspec": {
   "display_name": "Python 3",
   "language": "python",
   "name": "python3"
  },
  "language_info": {
   "codemirror_mode": {
    "name": "ipython",
    "version": 3
   },
   "file_extension": ".py",
   "mimetype": "text/x-python",
   "name": "python",
   "nbconvert_exporter": "python",
   "pygments_lexer": "ipython3",
   "version": "3.8.5"
  }
 },
 "nbformat": 4,
 "nbformat_minor": 4
}
