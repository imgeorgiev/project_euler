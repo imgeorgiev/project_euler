{
 "cells": [
  {
   "cell_type": "markdown",
   "metadata": {},
   "source": [
    "The cube, 41063625 ($345^3$), can be permuted to produce two other cubes: 56623104 ($384^3$) and 66430125 ($405^3$). In fact, 41063625 is the smallest cube which has exactly three permutations of its digits which are also cube.\n",
    "\n",
    "Find the smallest cube for which exactly five permutations of its digits are cube."
   ]
  },
  {
   "cell_type": "code",
   "execution_count": 1,
   "metadata": {},
   "outputs": [
    {
     "data": {
      "text/plain": [
       "{123, 132, 213, 231, 312, 321}"
      ]
     },
     "execution_count": 1,
     "metadata": {},
     "output_type": "execute_result"
    }
   ],
   "source": [
    "from itertools import permutations\n",
    "from helpers import num_to_digit_list, digit_list_to_num, is_to_power\n",
    "\n",
    "def get_all_permutations(num):\n",
    "    digits = num_to_digit_list(num)\n",
    "    result = set()\n",
    "    for each in permutations(digits):\n",
    "        if each[0] != 0:\n",
    "            result.add(digit_list_to_num(each))\n",
    "    return result\n",
    "\n",
    "get_all_permutations(123)"
   ]
  },
  {
   "cell_type": "code",
   "execution_count": 14,
   "metadata": {},
   "outputs": [
    {
     "name": "stdout",
     "output_type": "stream",
     "text": [
      "Our number is 8384\n",
      "Permutations [127035954683, 352045367981, 373559126408, 569310543872, 589323567104]\n",
      "CPU times: user 74.9 ms, sys: 18 µs, total: 74.9 ms\n",
      "Wall time: 72.9 ms\n"
     ]
    }
   ],
   "source": [
    "%%time\n",
    "\n",
    "start = 100\n",
    "end = 10000\n",
    "target_permutations = 5\n",
    "\n",
    "# set of all cubes\n",
    "cubes = {}\n",
    "for n in range(start,end):\n",
    "    cube = n**3\n",
    "    digits = sorted(num_to_digit_list(cube))[::-1]\n",
    "    cube_sorted = digit_list_to_num(digits)\n",
    "    if cube_sorted not in cubes:\n",
    "        cubes[cube_sorted] = [cube]\n",
    "    else:\n",
    "        cubes[cube_sorted].append(cube)\n",
    "        if len(cubes[cube_sorted]) == target_permutations:\n",
    "            print(\"Our number is\", n)\n",
    "            print(\"Permutations\", sorted(cubes[cube_sorted]))\n",
    "            break"
   ]
  }
 ],
 "metadata": {
  "kernelspec": {
   "display_name": "Python 3",
   "language": "python",
   "name": "python3"
  },
  "language_info": {
   "codemirror_mode": {
    "name": "ipython",
    "version": 3
   },
   "file_extension": ".py",
   "mimetype": "text/x-python",
   "name": "python",
   "nbconvert_exporter": "python",
   "pygments_lexer": "ipython3",
   "version": "3.8.5"
  }
 },
 "nbformat": 4,
 "nbformat_minor": 4
}
