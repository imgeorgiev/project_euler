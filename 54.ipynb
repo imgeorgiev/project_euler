{
 "cells": [
  {
   "cell_type": "markdown",
   "metadata": {},
   "source": [
    "In the card game poker, a hand consists of five cards and are ranked, from lowest to highest, in the following way:\n",
    "\n",
    "* High Card: Highest value card.\n",
    "* One Pair: Two cards of the same value.\n",
    "* Two Pairs: Two different pairs.\n",
    "* Three of a Kind: Three cards of the same value.\n",
    "* Straight: All cards are consecutive values.\n",
    "* Flush: All cards of the same suit.\n",
    "* Full House: Three of a kind and a pair.\n",
    "* Four of a Kind: Four cards of the same value.\n",
    "* Straight Flush: All cards are consecutive values of same suit.\n",
    "* Royal Flush: Ten, Jack, Queen, King, Ace, in same suit.\n",
    "* The cards are valued in the order: 2, 3, 4, 5, 6, 7, 8, 9, 10, Jack, Queen, King, Ace.\n",
    "\n",
    "If two players have the same ranked hands then the rank made up of the highest value wins; for example, a pair of eights beats a pair of fives (see example 1 below). But if two ranks tie, for example, both players have a pair of queens, then highest cards in each hand are compared (see example 4 below); if the highest cards tie then the next highest cards are compared, and so on.\n",
    "\n",
    "Consider the following five hands dealt to two players:\n",
    "\n",
    "| Hand\t |\tPlayer 1\t| \tPlayer 2\t| \tWinner |\n",
    "| --- | --- | --- | --- |\n",
    "| 1\t| \t5H 5C 6S 7S KD | 2C 3S 8S 8D TD | Player 2 |\n",
    "|   | Pair of Fives | Pair of Eights | |\n",
    "| 2\t| \t5D 8C 9S JS AC | 2C 5C 7D 8S QH | Player 1 |\n",
    "|   | Highest card Ace | Highest card Queen | |\n",
    "| 3\t| \t2D 9C AS AH AC | 3D 6D 7D TD QD | Player 2 |\n",
    "|   | Three Aces | Flush with Diamonds |  |\n",
    "| 4\t| \t4D 6S 9H QH QC | 3D 6D 7H QD QS | Player 1 |\n",
    "|   | Pair of Queens | Pair of Queens  | | \n",
    "|   | Highest card Nine | Highest card Seven | |\n",
    "| 5\t|  \t2H 2D 4C 4D 4S | 3C 3D 3S 9S 9D | Player 1 |\n",
    "|   | Full House With Three Fours | Full House with Three Threes | | \n",
    " \t\n",
    "The file, poker.txt, contains one-thousand random hands dealt to two players. Each line of the file contains ten cards (separated by a single space): the first five are Player 1's cards and the last five are Player 2's cards. You can assume that all hands are valid (no invalid characters or repeated cards), each player's hand is in no specific order, and in each hand there is a clear winner.\n",
    "\n",
    "How many hands does Player 1 win?"
   ]
  },
  {
   "cell_type": "code",
   "execution_count": 88,
   "metadata": {},
   "outputs": [],
   "source": [
    "# Using readlines()\n",
    "file1 = open('p054_poker.txt', 'r')\n",
    "Lines = file1.readlines()\n",
    " \n",
    "# Strips the newline character\n",
    "player1 = []\n",
    "player2 = []\n",
    "\n",
    "for line in Lines:\n",
    "    split = line.strip().split(\" \")\n",
    "    player1.append(\"\".join(split[:5]))\n",
    "    player2.append(\"\".join(split[5:]))"
   ]
  },
  {
   "cell_type": "code",
   "execution_count": 89,
   "metadata": {},
   "outputs": [],
   "source": [
    "test = sorted(\"4JKTQ\")"
   ]
  },
  {
   "cell_type": "code",
   "execution_count": 90,
   "metadata": {},
   "outputs": [],
   "source": [
    "dic = {\"2\": 2,\n",
    "       \"3\": 3,\n",
    "       \"4\": 4,\n",
    "       \"5\": 5,\n",
    "       \"6\": 6,\n",
    "       \"7\": 7,\n",
    "       \"8\": 8,\n",
    "       \"9\": 9,\n",
    "      \"T\": 10,\n",
    "      \"J\": 11,\n",
    "      \"Q\": 12,\n",
    "      \"K\": 13,\n",
    "      \"A\": 14}\n",
    "\n",
    "for i, each in enumerate(test):\n",
    "    if each in dic:\n",
    "        test[i] = dic[each]"
   ]
  },
  {
   "cell_type": "code",
   "execution_count": 91,
   "metadata": {},
   "outputs": [
    {
     "data": {
      "text/plain": [
       "[4, 11, 13, 12, 10]"
      ]
     },
     "execution_count": 91,
     "metadata": {},
     "output_type": "execute_result"
    }
   ],
   "source": [
    "test"
   ]
  },
  {
   "cell_type": "code",
   "execution_count": 92,
   "metadata": {},
   "outputs": [
    {
     "name": "stdout",
     "output_type": "stream",
     "text": [
      "Hands 1000  Results 1000\n",
      "Hands 1000  Results 1000\n"
     ]
    }
   ],
   "source": [
    "def to_numbers(s):\n",
    "\n",
    "    s = [x for x in s]\n",
    "    for i, each in enumerate(s):\n",
    "        if each in dic:\n",
    "            s[i] = dic[each]\n",
    "        else:\n",
    "            s[i] = int(each)\n",
    "\n",
    "    s = sorted(s)\n",
    "    return s\n",
    "\n",
    "def is_straigth(s):\n",
    "    s = to_numbers(s)\n",
    "    \n",
    "    if s == list(range(min(s), max(s)+1)):\n",
    "        return True\n",
    "    else:\n",
    "        return False\n",
    "\n",
    "player1_results = []\n",
    "for i in player1:\n",
    "    just_n = i.replace(\"H\", \"\").replace(\"D\", \"\").replace(\"C\", \"\").replace(\"S\", \"\")\n",
    "    just_stuits = set(i) - set(just_n)\n",
    "    nums = to_numbers(just_n)\n",
    "    \n",
    "    # check royal flush\n",
    "    if \"T\" in i and \"J\" in i and \"Q\" in i and \"K\" in i and \"A\" in i and len(just_stuits) == 1:\n",
    "        player1_results.append(\"RF\")\n",
    "    elif is_straigth(just_n) and len(just_stuits) == 1:\n",
    "        player1_results.append(\"SF\")\n",
    "    elif len(set(just_n)) == 2 and sorted(just_n)[1] == sorted(just_n)[-2]:\n",
    "        player1_results.append(\"4\" + sorted(just_n)[1])\n",
    "    elif len(set(just_n)) == 2 and sorted(just_n)[1] != sorted(just_n)[-2]:\n",
    "        player1_results.append(\"FH\" + sorted(just_n)[2])\n",
    "    elif len(just_stuits) == 1:\n",
    "        player1_results.append(\"FL\" + just_stuits.pop())\n",
    "    elif is_straigth(just_n):\n",
    "        player1_results.append(\"S\" + sorted(just_n)[0])\n",
    "    elif len(set(just_n)) == 3:\n",
    "        if sorted(just_n)[0] == sorted(just_n)[2] or sorted(just_n)[2] == sorted(just_n)[-1]:\n",
    "            player1_results.append(\"3\" + sorted(just_n)[2])\n",
    "        else:\n",
    "            player1_results.append(\"22\" + sorted(just_n)[1] + sorted(just_n)[-2])\n",
    "    elif len(set(just_n)) == 4:\n",
    "        just_n_sorted = sorted(just_n)\n",
    "        for i in range(0, 4):\n",
    "            if just_n_sorted[i] == just_n_sorted[i+1]:\n",
    "                player1_results.append(\"2\" + just_n_sorted[i])\n",
    "                break\n",
    "    else:\n",
    "        player1_results.append(\"H\" + str(nums[-1]))\n",
    "        \n",
    "        \n",
    "print(\"Hands {:}  Results {:}\".format(len(player1), len(player1_results)))\n",
    "\n",
    "\n",
    "player2_results = []\n",
    "for i in player2:\n",
    "    just_n = i.replace(\"H\", \"\").replace(\"D\", \"\").replace(\"C\", \"\").replace(\"S\", \"\")\n",
    "    just_stuits = set(i) - set(just_n)\n",
    "    nums = to_numbers(just_n)\n",
    "    \n",
    "    # check royal flush\n",
    "    if \"T\" in i and \"J\" in i and \"Q\" in i and \"K\" in i and \"A\" in i and len(just_stuits) == 1:\n",
    "        player2_results.append(\"RF\")\n",
    "    elif is_straigth(just_n) and len(just_stuits) == 1:\n",
    "        player2_results.append(\"SF\")\n",
    "    elif len(set(just_n)) == 2 and sorted(just_n)[1] == sorted(just_n)[-2]:\n",
    "        player2_results.append(\"4\" + sorted(just_n)[1])\n",
    "    elif len(set(just_n)) == 2 and sorted(just_n)[1] != sorted(just_n)[-2]:\n",
    "        player2_results.append(\"FH\" + sorted(just_n)[1] + sorted(just_n)[-2])\n",
    "    elif len(just_stuits) == 1:\n",
    "        player2_results.append(\"FL\" + just_stuits.pop())\n",
    "    elif is_straigth(just_n):\n",
    "        player2_results.append(\"S\" + sorted(just_n)[0])\n",
    "    elif len(set(just_n)) == 3:\n",
    "        if sorted(just_n)[0] == sorted(just_n)[2] or sorted(just_n)[2] == sorted(just_n)[-1]:\n",
    "            player2_results.append(\"3\" + sorted(just_n)[2])\n",
    "        else:\n",
    "            player2_results.append(\"22\" + sorted(just_n)[1] + sorted(just_n)[-2])\n",
    "    elif len(set(just_n)) == 4:\n",
    "        just_n_sorted = sorted(just_n)\n",
    "        for i in range(0, 4):\n",
    "            if just_n_sorted[i] == just_n_sorted[i+1]:\n",
    "                player2_results.append(\"2\" + just_n_sorted[i])\n",
    "                break\n",
    "    else:\n",
    "        player2_results.append(\"H\" + str(nums[-1]))\n",
    "        \n",
    "        \n",
    "print(\"Hands {:}  Results {:}\".format(len(player2), len(player2_results)))"
   ]
  },
  {
   "cell_type": "code",
   "execution_count": 93,
   "metadata": {},
   "outputs": [
    {
     "data": {
      "text/plain": [
       "3"
      ]
     },
     "execution_count": 93,
     "metadata": {},
     "output_type": "execute_result"
    }
   ],
   "source": [
    "test = \"KCJDKS6CJC\"\n",
    "just_n = test.replace(\"H\", \"\").replace(\"D\", \"\").replace(\"C\", \"\").replace(\"S\", \"\")\n",
    "len(set(just_n))"
   ]
  },
  {
   "cell_type": "code",
   "execution_count": 94,
   "metadata": {},
   "outputs": [],
   "source": [
    "# First convert results to numbers\n",
    "# Somebody has to win at all times\n",
    "\n",
    "player1_n = []\n",
    "for each in player1_results:\n",
    "    if each == \"RF\":\n",
    "        player1_n.append(10.0)\n",
    "    elif each == \"SF\":\n",
    "        player1_n.append(9.0)\n",
    "    elif each[0] == \"4\":\n",
    "        player1_n.append(8.0 + dic[each[1:]]/100)\n",
    "    elif each[:2] == \"FH\":\n",
    "        player1_n.append(7.0 + dic[each[2:]]/100)\n",
    "    elif each[:2] == \"FL\":\n",
    "        player1_n.append(6.0)\n",
    "    elif each[0] == \"S\":\n",
    "        player1_n.append(5.0 + dic[each[1:]]/100)\n",
    "    elif each[0] == \"3\":\n",
    "        player1_n.append(4.0 + dic[each[1:]]/100)\n",
    "    elif each[0] == \"22\":\n",
    "        player1_n.append(3.0 + dic[each[2]]/100 + dic[each[3]]/100)\n",
    "    elif each[0] == \"2\":\n",
    "        player1_n.append(2.0 + dic[each[1]]/100)\n",
    "    elif each[0] == \"H\":\n",
    "        player1_n.append(1.0 + int(each[1:])/100)\n",
    "    else:\n",
    "        print(\"Error unrecognised pattern\")\n",
    "        \n",
    "player2_n = []\n",
    "for each in player2_results:\n",
    "    if each == \"RF\":\n",
    "        player2_n.append(10.0)\n",
    "    elif each == \"SF\":\n",
    "        player2_n.append(9.0)\n",
    "    elif each[0] == \"4\":\n",
    "        player2_n.append(8.0 + dic[each[1:]]/100)\n",
    "    elif each[:2] == \"FH\":\n",
    "        player2_n.append(7.0 + dic[each[2]]/100 + dic[each[3]]/1000)\n",
    "    elif each[:2] == \"FL\":\n",
    "        player2_n.append(6.0)\n",
    "    elif each[0] == \"S\":\n",
    "        player2_n.append(5.0 + dic[each[1:]]/100)\n",
    "    elif each[0] == \"3\":\n",
    "        player2_n.append(4.0 + dic[each[1:]]/100)\n",
    "    elif each[0] == \"22\":\n",
    "        player2_n.append(3.0 + dic[each[2]]/100 + dic[each[3]]/100)\n",
    "    elif each[0] == \"2\":\n",
    "        player2_n.append(2.0 + dic[each[1]]/100)\n",
    "    elif each[0] == \"H\":\n",
    "        player2_n.append(1.0 + int(each[1:])/100)\n",
    "    else:\n",
    "        print(\"Error unrecognised pattern\")"
   ]
  },
  {
   "cell_type": "code",
   "execution_count": 95,
   "metadata": {},
   "outputs": [
    {
     "name": "stdout",
     "output_type": "stream",
     "text": [
      "you fucked up 24\n",
      "2.05 vs 2.05\n",
      "6D7C5D5H3S vs 5CJC2H5S3D\n",
      "-----\n",
      "you fucked up 405\n",
      "2.02 vs 2.02\n",
      "8CADQS2D2S vs KCJDKS6CJC\n",
      "-----\n",
      "you fucked up 515\n",
      "2.02 vs 2.02\n",
      "KDADKH7H7S vs 5D5H5S2D9C\n",
      "-----\n",
      "you fucked up 593\n",
      "2.02 vs 2.02\n",
      "QS2H9D2CAS vs 6S6C2S8C8S\n",
      "-----\n",
      "you fucked up 657\n",
      "2.02 vs 2.02\n",
      "7SQH7H6CQC vs 8H2D7CJD2S\n",
      "-----\n",
      "you fucked up 774\n",
      "2.02 vs 2.02\n",
      "3H3S6CQSQC vs 2D6S5D2C9D\n",
      "-----\n"
     ]
    }
   ],
   "source": [
    "wins1 = 0\n",
    "wins2 = 0\n",
    "for i in range(len(player1_n)):\n",
    "    if player1_n[i] > player2_n[i]:\n",
    "        wins1 += 1\n",
    "    elif player1_n[i] < player2_n[i]:\n",
    "        wins2 += 1\n",
    "    else:\n",
    "        print(\"you fucked up\", i)\n",
    "        print(player1_n[i], \"vs\", player2_n[i])\n",
    "        print(player1[i], \"vs\", player2[i])\n",
    "        print(\"-----\")"
   ]
  },
  {
   "cell_type": "code",
   "execution_count": 96,
   "metadata": {},
   "outputs": [
    {
     "data": {
      "text/plain": [
       "384"
      ]
     },
     "execution_count": 96,
     "metadata": {},
     "output_type": "execute_result"
    }
   ],
   "source": [
    "wins1"
   ]
  },
  {
   "cell_type": "code",
   "execution_count": null,
   "metadata": {},
   "outputs": [],
   "source": [
    "wins2 += 1\n"
   ]
  }
 ],
 "metadata": {
  "kernelspec": {
   "display_name": "Python 3",
   "language": "python",
   "name": "python3"
  },
  "language_info": {
   "codemirror_mode": {
    "name": "ipython",
    "version": 3
   },
   "file_extension": ".py",
   "mimetype": "text/x-python",
   "name": "python",
   "nbconvert_exporter": "python",
   "pygments_lexer": "ipython3",
   "version": "3.8.5"
  }
 },
 "nbformat": 4,
 "nbformat_minor": 4
}
